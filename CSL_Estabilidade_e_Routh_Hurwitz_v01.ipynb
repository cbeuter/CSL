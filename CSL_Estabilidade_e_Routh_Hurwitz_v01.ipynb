{
  "nbformat": 4,
  "nbformat_minor": 0,
  "metadata": {
    "colab": {
      "provenance": [],
      "authorship_tag": "ABX9TyN6DztbEP9wuUP3nf4tRvTP",
      "include_colab_link": true
    },
    "kernelspec": {
      "name": "python3",
      "display_name": "Python 3"
    },
    "language_info": {
      "name": "python"
    }
  },
  "cells": [
    {
      "cell_type": "markdown",
      "metadata": {
        "id": "view-in-github",
        "colab_type": "text"
      },
      "source": [
        "<a href=\"https://colab.research.google.com/github/cbeuter/Disc_CSL_e_EB/blob/main/CSL_Estabilidade_e_Routh_Hurwitz_v01.ipynb\" target=\"_parent\"><img src=\"https://colab.research.google.com/assets/colab-badge.svg\" alt=\"Open In Colab\"/></a>"
      ]
    },
    {
      "cell_type": "markdown",
      "source": [
        "# Estabilidade em Sistemas de Controle\n",
        "\n",
        "A principal regra de Routh-Hurwitz é um método utilizado na teoria de controle e análise de sistemas dinâmicos para determinar a estabilidade de um sistema de controle linear. A regra estabelece que todos os coeficientes de um polinômio característico devem ser positivos para que o sistema seja considerado estável. Se houver qualquer coeficiente negativo ou zero, então o sistema é instável. Essa regra é aplicada construindo uma tabela conhecida como tabela de Routh, na qual os coeficientes do polinômio característico são organizados e manipulados para determinar a estabilidade do sistema."
      ],
      "metadata": {
        "id": "7w6r4P6srYXm"
      }
    },
    {
      "cell_type": "markdown",
      "source": [
        "## A Regra\n",
        "\n",
        "A regra de montagem dos coeficientes, também conhecida como a regra de construção da tabela de Routh, é um procedimento sistemático para organizar os coeficientes do polinômio característico de um sistema de controle linear. Aqui está um resumo do processo passo a passo:\n",
        "\n",
        "1. Escreva o polinômio característico do sistema, por exemplo: $a_n s^n + a_{n-1} s^{n-1} + ... + a_1 s + a_0$.\n",
        "\n",
        "2. Liste os coeficientes `a_i` do polinômio em uma tabela, começando pelos termos de maior grau e preenchendo os espaços vazios com zeros, se necessário.\n",
        "\n",
        "3. Divida os coeficientes em duas linhas alternadas na tabela. Na primeira linha, insira os coeficientes com índices pares (começando com $a_0$), e na segunda linha, insira os coeficientes com índices ímpares (começando com $a_1$).\n",
        "\n",
        "4. Calcule os elementos restantes da tabela usando os coeficientes nas duas primeiras linhas. Os elementos são calculados da seguinte maneira:\n",
        "\n",
        "   - Primeira coluna: Copie os coeficientes $a_{n-1}$ e $a_{n-3}$ diretamente.\n",
        "   \n",
        "   - Para as colunas subsequentes, calcule os elementos da seguinte forma:\n",
        "   \n",
        "     $$\n",
        "     b_1 = (a_{n-2}a_{n-1} - a_{n-3}a_n) / a_{n-1}\n",
        "     $$\n",
        "\n",
        "     $$\n",
        "     b_2 = (a_{n-2}a_{n-1} - a_{n-3}a_n) / a_{n-1}\n",
        "     $$\n",
        "     \n",
        "     e assim por diante, onde $b_1$, $b_2$, ... são os elementos das colunas subsequentes.\n",
        "\n",
        "5. Se todos os elementos de uma coluna forem iguais a zero, então isso indica uma mudança de sinal nos coeficientes do polinômio característico, o que implica em uma raiz no semiplano direito do plano complexo, tornando o sistema instável.\n",
        "\n",
        "6. A estabilidade do sistema é determinada contando o número de mudanças de sinal na primeira coluna da tabela. O número de mudanças de sinal deve ser igual ao número de raízes com parte real positiva do polinômio característico para que o sistema seja estável.\n",
        "\n",
        "Seguindo esses passos, é possível aplicar a regra de montagem dos coeficientes para determinar a estabilidade de um sistema de controle linear utilizando a tabela de Routh.\n"
      ],
      "metadata": {
        "id": "yBUTLt7Lscu8"
      }
    },
    {
      "cell_type": "markdown",
      "source": [
        "## O Algoritmo\n",
        "Aplicando a regra em algotimo.\n"
      ],
      "metadata": {
        "id": "2IeoAtQTtLM1"
      }
    },
    {
      "cell_type": "code",
      "source": [
        "def routh_table(coefficients):\n",
        "    n = len(coefficients)\n",
        "    table = [[0] * (n // 2 + n % 2) for _ in range(n)]\n",
        "\n",
        "    # Fill in even coefficients in the first row\n",
        "    table[0] = coefficients[::2] + [0] * (n // 2 - len(coefficients) // 2)\n",
        "    # Fill in odd coefficients in the second row\n",
        "    table[1] = coefficients[1::2] + [0] * (n // 2 - len(coefficients) // 2)\n",
        "\n",
        "    # Fill in the rest of the table\n",
        "    for i in range(2, n):\n",
        "        for j in range(n // 2):\n",
        "            if table[i - 1][0] == 0:\n",
        "                table[i - 1][0] = 1e-10  # Small value to avoid division by zero\n",
        "            term1 = table[i - 1][0] * table[i - 2][0]\n",
        "            term2 = table[i - 2][j + 1] if j + 1 < len(table[i - 2]) else 0\n",
        "            term3 = table[i - 1][j + 1] if j + 1 < len(table[i - 1]) else 0\n",
        "            table[i][j] = (term1 * term2 - term3) / table[i - 1][0]\n",
        "\n",
        "    return table\n",
        "\n",
        "def count_sign_changes(row):\n",
        "    count = 0\n",
        "    for i in range(len(row) - 1):\n",
        "        if row[i] * row[i + 1] < 0:\n",
        "            count += 1\n",
        "    return count\n",
        "\n",
        "def check_stability(coefficients):\n",
        "    table = routh_table(coefficients)\n",
        "    first_column = [row[0] for row in table]\n",
        "    sign_changes = count_sign_changes(first_column)\n",
        "\n",
        "    if sign_changes == 0:\n",
        "        print(\"O sistema é estável.\")\n",
        "    else:\n",
        "        print(f\"O sistema é instável, pois há {sign_changes} mudanças de sinal na primeira coluna.\")\n",
        "\n",
        "# Exemplo de utilização\n",
        "coefficients = [1, 2, 4, 8, 1, 2]\n",
        "check_stability(coefficients)\n"
      ],
      "metadata": {
        "colab": {
          "base_uri": "https://localhost:8080/"
        },
        "id": "1pvmTe5dt8Qf",
        "outputId": "88c1228a-7117-49a9-964c-e4bdece9274a"
      },
      "execution_count": 16,
      "outputs": [
        {
          "output_type": "stream",
          "name": "stdout",
          "text": [
            "O sistema é instável, pois há 2 mudanças de sinal na primeira coluna.\n"
          ]
        }
      ]
    },
    {
      "cell_type": "markdown",
      "source": [
        "Neste algoritmo, coefficients é uma lista contendo os coeficientes do polinômio característico em ordem decrescente de potências de s. A função routh_table monta a tabela de Routh e a função count_sign_changes conta o número de mudanças de sinal na primeira coluna da tabela. A função check_stability utiliza as duas funções anteriores para determinar se o sistema é estável ou instável."
      ],
      "metadata": {
        "id": "iCwhj6Z9tbdg"
      }
    },
    {
      "cell_type": "code",
      "source": [
        "import numpy as np\n",
        "\n",
        "def calcular_raizes(coefficients):\n",
        "    # Calcula as raízes do polinômio\n",
        "    roots = np.roots(coefficients)\n",
        "    return roots\n",
        "\n",
        "# Coeficientes do polinômio\n",
        "coefficients = [1, 2, 4, 8, 1, 2]\n",
        "raizes = calcular_raizes(coefficients)\n",
        "print(\"Raízes do polinômio:\", raizes)\n"
      ],
      "metadata": {
        "colab": {
          "base_uri": "https://localhost:8080/"
        },
        "id": "ID4mt5DNuWPf",
        "outputId": "27562334-d05b-45b3-ab43-9a6d648f44d9"
      },
      "execution_count": 17,
      "outputs": [
        {
          "output_type": "stream",
          "name": "stdout",
          "text": [
            "Raízes do polinômio: [-2.00000000e+00+0.j         -2.77555756e-17+1.93185165j\n",
            " -2.77555756e-17-1.93185165j  2.22044605e-16+0.51763809j\n",
            "  2.22044605e-16-0.51763809j]\n"
          ]
        }
      ]
    },
    {
      "cell_type": "markdown",
      "source": [
        "Com outros valores de exemplo\n"
      ],
      "metadata": {
        "id": "d_sNAn0Ru3wk"
      }
    },
    {
      "cell_type": "code",
      "source": [
        "coefficients = [1, 0, 4, 0, 1]\n",
        "raizes = calcular_raizes(coefficients)\n",
        "print(\"Raízes do polinômio:\", raizes)"
      ],
      "metadata": {
        "colab": {
          "base_uri": "https://localhost:8080/"
        },
        "id": "RjT5KP3Du8X6",
        "outputId": "2b71ef56-6f87-4af3-fff4-3874d808e73e"
      },
      "execution_count": 18,
      "outputs": [
        {
          "output_type": "stream",
          "name": "stdout",
          "text": [
            "Raízes do polinômio: [0.+1.93185165j 0.-1.93185165j 0.+0.51763809j 0.-0.51763809j]\n"
          ]
        }
      ]
    },
    {
      "cell_type": "markdown",
      "source": [
        "Gerando coeficientes para experimentar os casos especiais de Routh"
      ],
      "metadata": {
        "id": "sBu-_ZsawJa7"
      }
    },
    {
      "cell_type": "code",
      "source": [
        "import numpy as np\n",
        "\n",
        "# Raízes fornecidas\n",
        "raizes = [-1, -2, -4, -4j, 4j, -3j, 3j, -1j, 1j, 6, 4, 1]  # estas são as raizes desejadas\n",
        "\n",
        "# Calcula o polinômio a partir das raízes fornecidas\n",
        "polinomio = np.poly(raizes)\n",
        "\n",
        "print(\"O polinômio resultante é:\")\n",
        "print(np.poly1d(polinomio))\n",
        "\n",
        "coefficients = np.poly1d(polinomio).coeffs\n",
        "coefficients = coefficients.tolist() # para evitar ndarray na saida\n",
        "\n",
        "print(\"Coeficientes do polinômio:\")\n",
        "print(coefficients) # polinômio caracteristico\n"
      ],
      "metadata": {
        "colab": {
          "base_uri": "https://localhost:8080/"
        },
        "id": "A0pwEARxvw7E",
        "outputId": "4f6553c7-6b52-4ff8-ba39-a4efc2818178"
      },
      "execution_count": 19,
      "outputs": [
        {
          "output_type": "stream",
          "name": "stdout",
          "text": [
            "O polinômio resultante é:\n",
            "   12     11     10      9       8        7       6        5\n",
            "1 x  - 4 x  - 3 x  - 36 x - 365 x + 1028 x + 771 x + 9252 x\n",
            "              4        3       2\n",
            " + 2.801e+04 x - 1024 x - 768 x - 9216 x - 2.765e+04\n",
            "Coeficientes do polinômio:\n",
            "[1.0, -4.0, -3.0, -36.0, -365.0, 1028.0, 771.0, 9252.0, 28012.0, -1024.0, -768.0, -9216.0, -27648.0]\n"
          ]
        }
      ]
    },
    {
      "cell_type": "markdown",
      "source": [
        "Aplicando a extração padrão de raizes"
      ],
      "metadata": {
        "id": "SEaD7Z3bwUOD"
      }
    },
    {
      "cell_type": "code",
      "source": [
        "raizes = calcular_raizes(coefficients)\n",
        "raizes = np.around(raizes, decimals=10) # para liminar valores muito pequenos da resposta\n",
        "print(\"Raízes do polinômio:\", raizes)\n",
        "\n",
        "# ou outra forma de visualizar a resposta\n",
        "raizes_sem_zeros_negativos = [str(raiz).replace('-0', '0') for raiz in raizes]\n",
        "print(\"Raízes do polinômio:\", raizes_sem_zeros_negativos)\n"
      ],
      "metadata": {
        "colab": {
          "base_uri": "https://localhost:8080/"
        },
        "id": "xAaZBDLTwWiq",
        "outputId": "0fa7299b-de54-4c4b-82c4-e91249ccf14a"
      },
      "execution_count": 20,
      "outputs": [
        {
          "output_type": "stream",
          "name": "stdout",
          "text": [
            "Raízes do polinômio: [ 6.+0.j  4.+0.j -4.+0.j  0.+4.j  0.-4.j -0.+3.j -0.-3.j -2.+0.j  1.+0.j\n",
            " -0.+1.j -0.-1.j -1.+0.j]\n",
            "Raízes do polinômio: ['(6+0j)', '(4+0j)', '(-4+0j)', '4j', '-4j', '(0+3j)', '(0-3j)', '(-2+0j)', '(1+0j)', '(0+1j)', '(0-1j)', '(-1+0j)']\n"
          ]
        }
      ]
    },
    {
      "cell_type": "markdown",
      "source": [
        "No exemplo acima, de fato, o polinômio apresentado e suas raizes são compatíveis com o desejado.\n",
        "\n",
        "Agora, aplicando os mesmos dados com a proposta inicial de algoritmo de Routh"
      ],
      "metadata": {
        "id": "vg60ly5Ky8TM"
      }
    },
    {
      "cell_type": "code",
      "source": [
        "# coefficients, serão os mesmos já calculados anteriormente\n",
        "check_stability(coefficients)"
      ],
      "metadata": {
        "colab": {
          "base_uri": "https://localhost:8080/"
        },
        "id": "bdVa0KXNywLW",
        "outputId": "8f97e75b-9026-4440-e3cb-22a237cc32c5"
      },
      "execution_count": 21,
      "outputs": [
        {
          "output_type": "stream",
          "name": "stdout",
          "text": [
            "O sistema é instável, pois há 6 mudanças de sinal na primeira coluna.\n"
          ]
        }
      ]
    },
    {
      "cell_type": "code",
      "source": [
        "def routh_table(coefficients):\n",
        "    n = len(coefficients)\n",
        "    table = [[] for _ in range(n)]\n",
        "\n",
        "    # Fill in even coefficients in the first row\n",
        "    table[0] = [coefficients[i] for i in range(0, n, 2)]\n",
        "    # Fill in odd coefficients in the second row\n",
        "    table[1] = [coefficients[i] for i in range(1, n, 2)]\n",
        "\n",
        "    # Fill in the rest of the table\n",
        "    for i in range(2, n):\n",
        "        for j in range(n // 2):\n",
        "            if table[i - 1][0] == 0:\n",
        "                table[i - 1][0] = 1e-10  # Small value to avoid division by zero\n",
        "            term1 = table[i - 1][0] * table[i - 2][0]\n",
        "            term2 = table[i - 2][j + 1] if j + 1 < len(table[i - 2]) else 0\n",
        "            term3 = table[i - 1][j + 1] if j + 1 < len(table[i - 1]) else 0\n",
        "            table[i].append((term1 * term2 - term3) / table[i - 1][0])\n",
        "\n",
        "    return table\n",
        "\n",
        "def format_number(num):\n",
        "    # Formatando números grandes no formato de engenharia\n",
        "    if abs(num) > 1e6 or (abs(num) < 1e-4 and abs(num) > 0):\n",
        "        return \"{:.2e}\".format(num)\n",
        "    # Apresentando zero quando o número é muito pequeno\n",
        "    elif abs(num) < 1e-10:\n",
        "        return \"0\"\n",
        "    else:\n",
        "        return \"{:.4f}\".format(num)\n",
        "\n",
        "def print_routh_table(table):\n",
        "    for row in table:\n",
        "        formatted_row = [format_number(val) for val in row]\n",
        "        print(\"\\t\".join(formatted_row))\n",
        "\n",
        "# Coeficientes do polinômio: 1s^3 + 3s^2 + 4s + 2\n",
        "# coefficients = [1, 3, 4, 2]  # se comentado, usa os coef anteriores\n",
        "table = routh_table(coefficients)\n",
        "\n",
        "print(\"Tabela de Routh:\")\n",
        "print_routh_table(table)\n"
      ],
      "metadata": {
        "colab": {
          "base_uri": "https://localhost:8080/"
        },
        "id": "9s8EfrQ-zgrr",
        "outputId": "04b8f6b0-59d1-42cb-8a91-8acd5f691cdb"
      },
      "execution_count": 22,
      "outputs": [
        {
          "output_type": "stream",
          "name": "stdout",
          "text": [
            "Tabela de Routh:\n",
            "1.0000\t-3.0000\t-365.0000\t771.0000\t28012.0000\t-768.0000\t-27648.0000\n",
            "-4.0000\t-36.0000\t1028.0000\t9252.0000\t-1024.0000\t-9216.0000\n",
            "-12.0000\t-108.0000\t3084.0000\t27756.0000\t-3072.0000\t-27648.0000\n",
            "135.0000\t-3855.0000\t-34695.0000\t3840.0000\t34560.0000\t0\n",
            "1324.5556\t-36751.0000\t-333100.4444\t36608.0000\t331776.0000\t0\n",
            "-520397.2541\t-4.68e+06\t518372.3621\t4.67e+06\t0\t0\n",
            "-4.87e+07\t-4.41e+08\t4.85e+07\t4.39e+08\t0\t0\n",
            "2.44e+12\t-2.70e+11\t-2.43e+12\t0\t0\t0\n",
            "2.15e+16\t-2.36e+15\t-2.14e+16\t0\t0\t0\n",
            "-6.57e+23\t-5.92e+24\t0\t0\t0\t0\n",
            "-5.07e+31\t-4.59e+32\t0\t0\t0\t0\n",
            "3.89e+48\t0\t0\t0\t0\t0\n",
            "2.33e+64\t0\t0\t0\t0\t0\n"
          ]
        }
      ]
    },
    {
      "cell_type": "markdown",
      "source": [
        "Finalmente, avaliando onde estão os polos"
      ],
      "metadata": {
        "id": "60IihgVP2YDn"
      }
    },
    {
      "cell_type": "code",
      "source": [
        "def print_routh_table_with_root_counts(table):\n",
        "    root_counts = sum(1 for val in table[0] if val > 0), sum(1 for val in table[0] if val < 0)\n",
        "    for row in table:\n",
        "        formatted_row = [format_number(val) for val in row]\n",
        "        print(\"\\t\".join(formatted_row))\n",
        "    print(\"\\nNúmero de raízes à esquerda do eixo x:\", root_counts[0])\n",
        "    print(\"Número de raízes à direita do eixo x:\", root_counts[1])\n",
        "\n",
        "# Coeficientes do polinômio: 1s^3 + 3s^2 + 4s + 2\n",
        "# coefficients = [1, 3, 4, 2]\n",
        "table = routh_table(coefficients)\n",
        "\n",
        "print(\"Tabela de Routh:\")\n",
        "print_routh_table_with_root_counts(table)\n"
      ],
      "metadata": {
        "colab": {
          "base_uri": "https://localhost:8080/"
        },
        "id": "4JRJgPEg2c_Y",
        "outputId": "dca98db6-de6c-4c7d-a6fd-7c3fbbbe2966"
      },
      "execution_count": 15,
      "outputs": [
        {
          "output_type": "stream",
          "name": "stdout",
          "text": [
            "Tabela de Routh:\n",
            "1.0000\t-3.0000\t-365.0000\t771.0000\t28012.0000\t-768.0000\t-27648.0000\n",
            "-4.0000\t-36.0000\t1028.0000\t9252.0000\t-1024.0000\t-9216.0000\n",
            "-12.0000\t-108.0000\t3084.0000\t27756.0000\t-3072.0000\t-27648.0000\n",
            "135.0000\t-3855.0000\t-34695.0000\t3840.0000\t34560.0000\t0\n",
            "1324.5556\t-36751.0000\t-333100.4444\t36608.0000\t331776.0000\t0\n",
            "-520397.2541\t-4.68e+06\t518372.3621\t4.67e+06\t0\t0\n",
            "-4.87e+07\t-4.41e+08\t4.85e+07\t4.39e+08\t0\t0\n",
            "2.44e+12\t-2.70e+11\t-2.43e+12\t0\t0\t0\n",
            "2.15e+16\t-2.36e+15\t-2.14e+16\t0\t0\t0\n",
            "-6.57e+23\t-5.92e+24\t0\t0\t0\t0\n",
            "-5.07e+31\t-4.59e+32\t0\t0\t0\t0\n",
            "3.89e+48\t0\t0\t0\t0\t0\n",
            "2.33e+64\t0\t0\t0\t0\t0\n",
            "\n",
            "Número de raízes à esquerda do eixo x: 3\n",
            "Número de raízes à direita do eixo x: 4\n"
          ]
        }
      ]
    },
    {
      "cell_type": "markdown",
      "source": [
        "Conforme apresentado acima, o algotimo tem certa eficiência nos resultados. Porém, ao final, não apresenta uma boa informação, ou seja, quantos polos estão sobre o eixo $j\\omega$"
      ],
      "metadata": {
        "id": "KNeNOxWJ22x9"
      }
    },
    {
      "cell_type": "markdown",
      "source": [
        "## Atividade 01\n",
        "Apresente uma solução genérica o suficiente para o algoritmo acima gerar a tabela padrão de análise de Routh-Hurwitz, como exemplificado na imagem abaixo.\n",
        "\n",
        "\n",
        "| Posição   | Par (4ªordem)   | Outro (4ª ordem)  | Total (8ª ordem) |\n",
        "--|--|--|--\n",
        "Semiplano da direita | 0 | 2 | 2 |\n",
        "Semiplano da esquerda | 0 | 2 | 2 |\n",
        "$j\\omega$ | 4 | 0 | 4 |\n",
        "Total | 4 | 4 | 8 |\n"
      ],
      "metadata": {
        "id": "U1kDPxuS3HRC"
      }
    }
  ]
}