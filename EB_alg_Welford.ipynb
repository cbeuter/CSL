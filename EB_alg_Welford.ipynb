{
  "nbformat": 4,
  "nbformat_minor": 0,
  "metadata": {
    "colab": {
      "provenance": [],
      "authorship_tag": "ABX9TyN83NbPGJhAtbapvJ4sFeeV",
      "include_colab_link": true
    },
    "kernelspec": {
      "name": "python3",
      "display_name": "Python 3"
    },
    "language_info": {
      "name": "python"
    }
  },
  "cells": [
    {
      "cell_type": "markdown",
      "metadata": {
        "id": "view-in-github",
        "colab_type": "text"
      },
      "source": [
        "<a href=\"https://colab.research.google.com/github/cbeuter/Disc_CSL_e_EB/blob/main/EB_alg_Welford.ipynb\" target=\"_parent\"><img src=\"https://colab.research.google.com/assets/colab-badge.svg\" alt=\"Open In Colab\"/></a>"
      ]
    },
    {
      "cell_type": "markdown",
      "source": [
        "# O algoritmo de Welford\n",
        "O algoritmo de Welford é uma técnica para calcular a média e o desvio padrão de um conjunto de números em tempo real, à medida que novos números são adicionados à sequência. Ele foi proposto por B. P. Welford em 1962.\n",
        "\n",
        "O algoritmo de Welford mantém três variáveis principais:\n",
        "\n",
        "1. **k**: O número de elementos na sequência.\n",
        "2. **M**: A média acumulada dos elementos na sequência até o momento.\n",
        "3. **S**: A soma dos quadrados das diferenças entre cada elemento e a média acumulada.\n",
        "\n",
        "À medida que novos elementos são adicionados à sequência, o algoritmo atualiza essas variáveis de acordo com as seguintes fórmulas:\n",
        "\n",
        "1. **Atualização da média (M)**:\n",
        "   $M_n = M_{n-1} + \\frac{(x_n - M_{n-1})}{n}$\n",
        "\n",
        "   Onde:\n",
        "   - $M_n$ é a nova média após a adição do $n$-ésimo elemento.\n",
        "   - $M_{n-1}$ é a média anterior.\n",
        "   - $x_n$ é o $n$-ésimo elemento.\n",
        "   - $n$ é o número total de elementos na sequência após adicionar o $n$-ésimo elemento.\n",
        "\n",
        "2. **Atualização da soma dos quadrados das diferenças (S)**:\n",
        "   $S_n = S_{n-1} + (x_n - M_{n-1}) \\times (x_n - M_n)$\n",
        "\n",
        "   Onde:\n",
        "   - $S_n$ é a nova soma dos quadrados das diferenças após a adição do $n$-ésimo elemento.\n",
        "\n",
        "No algoritmo de Welford, essas atualizações são feitas de forma iterativa para cada novo elemento adicionado à sequência. Isso permite calcular a média e o desvio padrão de forma eficiente e precisa, mesmo quando os dados estão chegando em tempo real e quando a memória é limitada.\n",
        "\n",
        "Após a adição de todos os elementos, a média é simplesmente \\(M\\) e o desvio padrão pode ser calculado dividindo \\(S\\) pelo número de elementos menos 1 e tirando a raiz quadrada desse resultado.\n",
        "\n",
        "Este algoritmo é especialmente útil em situações onde é necessário calcular estatísticas de forma dinâmica, à medida que novos dados são gerados ou recebidos. Ele é amplamente utilizado em áreas como processamento de sinais, análise de dados em tempo real e estatísticas online."
      ],
      "metadata": {
        "id": "xwX_gPXdp2Rv"
      }
    },
    {
      "cell_type": "markdown",
      "source": [
        "Execução do algoritmo em uma classe"
      ],
      "metadata": {
        "id": "vQmnyCz9qLlo"
      }
    },
    {
      "cell_type": "code",
      "execution_count": 8,
      "metadata": {
        "colab": {
          "base_uri": "https://localhost:8080/"
        },
        "id": "EsAIrHjmpYy5",
        "outputId": "5acf23bb-7bad-494a-e7c8-da0207a5a0cc"
      },
      "outputs": [
        {
          "output_type": "stream",
          "name": "stdout",
          "text": [
            "Média: 5.0\n",
            "Desvio Padrão: 2.138089935299395\n",
            "Desvio Padrão: 2.138089935299395\n"
          ]
        }
      ],
      "source": [
        "import math\n",
        "import statistics\n",
        "\n",
        "class Welford:\n",
        "    def __init__(self):\n",
        "        self.k = 0\n",
        "        self.M = 0\n",
        "        self.S = 0\n",
        "\n",
        "    def update(self, x):\n",
        "        self.k += 1\n",
        "        new_M = self.M + (x - self.M) / self.k\n",
        "        new_S = self.S + (x - self.M) * (x - new_M)\n",
        "        self.M = new_M\n",
        "        self.S = new_S\n",
        "\n",
        "    def mean(self):\n",
        "        return self.M\n",
        "\n",
        "    def variance(self):\n",
        "        if self.k == 1:\n",
        "            return 0\n",
        "        else:\n",
        "            return self.S / (self.k - 1)\n",
        "\n",
        "    def stddev(self):\n",
        "        return math.sqrt(self.variance())\n",
        "\n",
        "# Exemplo de uso:\n",
        "data = [2, 4, 4, 4, 5, 5, 7, 9]\n",
        "w = Welford()\n",
        "for num in data:\n",
        "    w.update(num)\n",
        "\n",
        "print(\"Média:\", w.mean())\n",
        "print(\"Desvio Padrão:\", w.stddev())\n",
        "\n",
        "# compare com o uso de biblioteca\n",
        "desvPad = statistics.stdev(data)\n",
        "print(\"Desvio Padrão:\", desvPad)"
      ]
    },
    {
      "cell_type": "code",
      "source": [],
      "metadata": {
        "id": "MGGEgNXIqsr_"
      },
      "execution_count": null,
      "outputs": []
    }
  ]
}