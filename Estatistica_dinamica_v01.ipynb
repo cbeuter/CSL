{
  "nbformat": 4,
  "nbformat_minor": 0,
  "metadata": {
    "colab": {
      "provenance": [],
      "toc_visible": true,
      "authorship_tag": "ABX9TyOb1nIqBIC7YVBqIBwj1Kg9",
      "include_colab_link": true
    },
    "kernelspec": {
      "name": "python3",
      "display_name": "Python 3"
    },
    "language_info": {
      "name": "python"
    }
  },
  "cells": [
    {
      "cell_type": "markdown",
      "metadata": {
        "id": "view-in-github",
        "colab_type": "text"
      },
      "source": [
        "<a href=\"https://colab.research.google.com/github/cbeuter/CSL/blob/main/Estatistica_dinamica_v01.ipynb\" target=\"_parent\"><img src=\"https://colab.research.google.com/assets/colab-badge.svg\" alt=\"Open In Colab\"/></a>"
      ]
    },
    {
      "cell_type": "markdown",
      "source": [
        "# **Estatistica** Dinâmica"
      ],
      "metadata": {
        "id": "7t387MI2DhZg"
      }
    },
    {
      "cell_type": "markdown",
      "source": [
        "Algumas coletas de dados em tempo real por sistemas embarcadaos, eventualmente precisam apresentar resultados estatístico dinamicamente, que devido a limitação de memória, não podem ter a capacidade de guardar os dados. Um *stream* de dados não permite locação de dados para cálculo posterior. Um exemplo típico é a velocidade média e rendimento (km/litro) dos automóveis.\n",
        "\n",
        "O objetivo deste tutorial é apresentar de maneira simples, uma forma de fazer estes tipos de cálculos, dinamicamente. Ademais, a proposta incluir eliminar dados fora do padrão. Geralmente devido a ruido inserido no sistema e que trariam grande desvirtuação nos dados estatísticos."
      ],
      "metadata": {
        "id": "LuYAE4D_e3-z"
      }
    },
    {
      "cell_type": "markdown",
      "source": [
        "## Média"
      ],
      "metadata": {
        "id": "AiDyRO6vPqbw"
      }
    },
    {
      "cell_type": "code",
      "execution_count": 21,
      "metadata": {
        "colab": {
          "base_uri": "https://localhost:8080/",
          "height": 0
        },
        "id": "75uRnKKs_skE",
        "outputId": "64e877ac-be54-4116-c1ec-db78618f342b"
      },
      "outputs": [
        {
          "output_type": "stream",
          "name": "stdout",
          "text": [
            "Média até agora: 10.0\n",
            "Média até agora: 15.0\n",
            "Média até agora: 20.0\n",
            "Média até agora: 25.0\n",
            "Média até agora: 30.0\n"
          ]
        }
      ],
      "source": [
        "def calcular_media_dinamica(lista_numeros):\n",
        "    total = 0\n",
        "    count = 0\n",
        "    for numero in lista_numeros:\n",
        "        total += numero\n",
        "        count += 1\n",
        "        media_atual = total / count\n",
        "        yield media_atual\n",
        "\n",
        "# Exemplo de uso\n",
        "lista_numeros = [10, 20, 30, 40, 50]\n",
        "gerador_media = calcular_media_dinamica(lista_numeros)\n",
        "\n",
        "for media in gerador_media:\n",
        "    print(f\"Média até agora: {media}\")"
      ]
    },
    {
      "cell_type": "markdown",
      "source": [
        "Agora generalizando as medições"
      ],
      "metadata": {
        "id": "02bM7nYoK-na"
      }
    },
    {
      "cell_type": "code",
      "source": [
        "import random\n",
        "tam = 15\n",
        "lista_numeros = [random.randint(1, 100) for _ in range(tam)]\n",
        "lista_numeros\n"
      ],
      "metadata": {
        "colab": {
          "base_uri": "https://localhost:8080/",
          "height": 0
        },
        "id": "6yAjYM1cFFcT",
        "outputId": "b837ecc4-1271-45a7-b2b3-d608a15b2bb3"
      },
      "execution_count": 30,
      "outputs": [
        {
          "output_type": "execute_result",
          "data": {
            "text/plain": [
              "[54, 53, 100, 35, 29, 64, 98, 22, 100, 19, 48, 25, 56, 34, 79]"
            ]
          },
          "metadata": {},
          "execution_count": 30
        }
      ]
    },
    {
      "cell_type": "markdown",
      "source": [
        "Atualizando a forma de calcular"
      ],
      "metadata": {
        "id": "z20NaPAbLVPP"
      }
    },
    {
      "cell_type": "code",
      "source": [
        "def calcular_media_dinamica(lista):\n",
        "    soma = 0\n",
        "    for i, numero in enumerate(lista, start=1):\n",
        "        soma += numero\n",
        "        media_atual = soma / i\n",
        "        print(f\"Iteração {i}, Número: {numero}, Média até agora: {media_atual}\")\n",
        "\n",
        "# Demonstrando o funcionamento da função com a lista gerada anteriormente\n",
        "calcular_media_dinamica(lista_numeros)\n"
      ],
      "metadata": {
        "colab": {
          "base_uri": "https://localhost:8080/",
          "height": 0
        },
        "id": "0AXyPvdFLXns",
        "outputId": "1008a813-5a25-4f73-d977-58d7f7811582"
      },
      "execution_count": 31,
      "outputs": [
        {
          "output_type": "stream",
          "name": "stdout",
          "text": [
            "Iteração 1, Número: 54, Média até agora: 54.0\n",
            "Iteração 2, Número: 53, Média até agora: 53.5\n",
            "Iteração 3, Número: 100, Média até agora: 69.0\n",
            "Iteração 4, Número: 35, Média até agora: 60.5\n",
            "Iteração 5, Número: 29, Média até agora: 54.2\n",
            "Iteração 6, Número: 64, Média até agora: 55.833333333333336\n",
            "Iteração 7, Número: 98, Média até agora: 61.857142857142854\n",
            "Iteração 8, Número: 22, Média até agora: 56.875\n",
            "Iteração 9, Número: 100, Média até agora: 61.666666666666664\n",
            "Iteração 10, Número: 19, Média até agora: 57.4\n",
            "Iteração 11, Número: 48, Média até agora: 56.54545454545455\n",
            "Iteração 12, Número: 25, Média até agora: 53.916666666666664\n",
            "Iteração 13, Número: 56, Média até agora: 54.07692307692308\n",
            "Iteração 14, Número: 34, Média até agora: 52.642857142857146\n",
            "Iteração 15, Número: 79, Média até agora: 54.4\n"
          ]
        }
      ]
    },
    {
      "cell_type": "markdown",
      "source": [
        "Formatando a saida para duas casas decimais"
      ],
      "metadata": {
        "id": "1iF_N03fLri9"
      }
    },
    {
      "cell_type": "code",
      "source": [
        "def calcular_media_dinamica_formatada(lista):\n",
        "    soma = 0\n",
        "    for i, numero in enumerate(lista, start=1):\n",
        "        soma += numero\n",
        "        media_atual = soma / i\n",
        "        print(f\"Iteração {i}, Número: {numero}, Média até agora: {media_atual:.2f}\")\n",
        "\n",
        "# Demonstrando o funcionamento da função com a formatação da média\n",
        "calcular_media_dinamica_formatada(lista_numeros)\n"
      ],
      "metadata": {
        "colab": {
          "base_uri": "https://localhost:8080/",
          "height": 0
        },
        "id": "VmULteGxLuZB",
        "outputId": "a17a7abb-810d-4444-86b1-bff2ebf37c89"
      },
      "execution_count": 32,
      "outputs": [
        {
          "output_type": "stream",
          "name": "stdout",
          "text": [
            "Iteração 1, Número: 54, Média até agora: 54.00\n",
            "Iteração 2, Número: 53, Média até agora: 53.50\n",
            "Iteração 3, Número: 100, Média até agora: 69.00\n",
            "Iteração 4, Número: 35, Média até agora: 60.50\n",
            "Iteração 5, Número: 29, Média até agora: 54.20\n",
            "Iteração 6, Número: 64, Média até agora: 55.83\n",
            "Iteração 7, Número: 98, Média até agora: 61.86\n",
            "Iteração 8, Número: 22, Média até agora: 56.88\n",
            "Iteração 9, Número: 100, Média até agora: 61.67\n",
            "Iteração 10, Número: 19, Média até agora: 57.40\n",
            "Iteração 11, Número: 48, Média até agora: 56.55\n",
            "Iteração 12, Número: 25, Média até agora: 53.92\n",
            "Iteração 13, Número: 56, Média até agora: 54.08\n",
            "Iteração 14, Número: 34, Média até agora: 52.64\n",
            "Iteração 15, Número: 79, Média até agora: 54.40\n"
          ]
        }
      ]
    },
    {
      "cell_type": "markdown",
      "source": [
        "Incluir números reais, com pontos flutuantes"
      ],
      "metadata": {
        "id": "drtKCfUHLywA"
      }
    },
    {
      "cell_type": "code",
      "source": [
        "# Gerando uma lista de números reais (com decimais)\n",
        "lista_numeros_reais = [random.uniform(1, 100) for _ in range(10)]\n",
        "\n",
        "# Calculando a média dinâmica de números reais com formatação\n",
        "def calcular_media_dinamica_reais(lista):\n",
        "    soma = 0\n",
        "    resultados = []\n",
        "    for i, numero in enumerate(lista, start=1):\n",
        "        soma += numero\n",
        "        media_atual = soma / i\n",
        "        resultados.append(f\"Iteração {i}, Número: {numero:.2f}, Média até agora: {media_atual:.2f}\")\n",
        "    return resultados, lista\n",
        "\n",
        "resultados_reais, lista_numeros_reais_formatada = calcular_media_dinamica_reais(lista_numeros_reais)\n",
        "\n",
        "lista_numeros_reais_formatada, resultados_reais\n"
      ],
      "metadata": {
        "colab": {
          "base_uri": "https://localhost:8080/",
          "height": 0
        },
        "id": "rTb3uYtXMK5-",
        "outputId": "5bc8d1bb-9d4a-43bd-ca56-3ee66b84cb3e"
      },
      "execution_count": 35,
      "outputs": [
        {
          "output_type": "execute_result",
          "data": {
            "text/plain": [
              "([66.9734220095483,\n",
              "  34.35428471628422,\n",
              "  60.86245872772043,\n",
              "  95.33676589130609,\n",
              "  49.14221090122884,\n",
              "  64.13697210419409,\n",
              "  48.6242237641596,\n",
              "  93.84208794924864,\n",
              "  34.08689292108191,\n",
              "  76.02000101413915],\n",
              " ['Iteração 1, Número: 66.97, Média até agora: 66.97',\n",
              "  'Iteração 2, Número: 34.35, Média até agora: 50.66',\n",
              "  'Iteração 3, Número: 60.86, Média até agora: 54.06',\n",
              "  'Iteração 4, Número: 95.34, Média até agora: 64.38',\n",
              "  'Iteração 5, Número: 49.14, Média até agora: 61.33',\n",
              "  'Iteração 6, Número: 64.14, Média até agora: 61.80',\n",
              "  'Iteração 7, Número: 48.62, Média até agora: 59.92',\n",
              "  'Iteração 8, Número: 93.84, Média até agora: 64.16',\n",
              "  'Iteração 9, Número: 34.09, Média até agora: 60.82',\n",
              "  'Iteração 10, Número: 76.02, Média até agora: 62.34'])"
            ]
          },
          "metadata": {},
          "execution_count": 35
        }
      ]
    },
    {
      "cell_type": "markdown",
      "source": [
        "Criado  uma semente para reproduzir os mesmos dados e conferir resultados"
      ],
      "metadata": {
        "id": "lZewpyrEMdB6"
      }
    },
    {
      "cell_type": "code",
      "source": [
        "# Definindo uma semente para a geração de números reais\n",
        "random.seed(42)\n",
        "\n",
        "# Gerando uma nova lista de números reais (com decimais) usando a semente definida\n",
        "lista_numeros_reais_semente = [random.uniform(1, 100) for _ in range(10)]\n",
        "\n",
        "# Calculando a média dinâmica de números reais com formatação usando a nova lista\n",
        "resultados_reais_semente, lista_numeros_reais_semente_formatada = calcular_media_dinamica_reais(lista_numeros_reais_semente)\n",
        "\n",
        "lista_numeros_reais_semente_formatada, resultados_reais_semente\n"
      ],
      "metadata": {
        "colab": {
          "base_uri": "https://localhost:8080/",
          "height": 0
        },
        "id": "U8U1lRJsMjej",
        "outputId": "6d33c8c7-0221-42db-b7d9-365ee55548b4"
      },
      "execution_count": 37,
      "outputs": [
        {
          "output_type": "execute_result",
          "data": {
            "text/plain": [
              "([64.30325304733049,\n",
              "  3.4760647670440266,\n",
              "  28.227902518542805,\n",
              "  23.097863076733454,\n",
              "  73.91065020223722,\n",
              "  67.99324925486822,\n",
              "  89.32577720277969,\n",
              "  9.606944430312199,\n",
              "  42.77026014884177,\n",
              "  3.949924724368964],\n",
              " ['Iteração 1, Número: 64.30, Média até agora: 64.30',\n",
              "  'Iteração 2, Número: 3.48, Média até agora: 33.89',\n",
              "  'Iteração 3, Número: 28.23, Média até agora: 32.00',\n",
              "  'Iteração 4, Número: 23.10, Média até agora: 29.78',\n",
              "  'Iteração 5, Número: 73.91, Média até agora: 38.60',\n",
              "  'Iteração 6, Número: 67.99, Média até agora: 43.50',\n",
              "  'Iteração 7, Número: 89.33, Média até agora: 50.05',\n",
              "  'Iteração 8, Número: 9.61, Média até agora: 44.99',\n",
              "  'Iteração 9, Número: 42.77, Média até agora: 44.75',\n",
              "  'Iteração 10, Número: 3.95, Média até agora: 40.67'])"
            ]
          },
          "metadata": {},
          "execution_count": 37
        }
      ]
    },
    {
      "cell_type": "markdown",
      "source": [
        "Com a semente 42 exemplificada, a lista deve ser\n",
        "\n",
        "[64.30,3.48,28.23,23.10,73.91,67.99,89.33,9.61,42.77,3.95]\n",
        "e (...)\n",
        "\n",
        "Iteração 10, Número: 3.95, Média até agora: **40.67**\n"
      ],
      "metadata": {
        "id": "PmpACQvPMuDI"
      }
    },
    {
      "cell_type": "markdown",
      "source": [
        "## Desvio Padrão"
      ],
      "metadata": {
        "id": "NiEqOUjkPxKi"
      }
    },
    {
      "cell_type": "code",
      "source": [
        "def calcular_media_desvio_padrao_dinamico(lista):\n",
        "    soma = 0\n",
        "    soma_quadrados = 0\n",
        "    resultados = []\n",
        "    for i, numero in enumerate(lista, start=1):\n",
        "        soma += numero\n",
        "        soma_quadrados += numero ** 2\n",
        "        media_atual = soma / i\n",
        "        variancia = (soma_quadrados / i) - (media_atual ** 2)\n",
        "        desvio_padrao = variancia ** 0.5\n",
        "        resultados.append(f\"Iteração {i}, Número: {numero:.2f}, Média: {media_atual:.2f}, Desvio Padrão: {desvio_padrao:.2f}\")\n",
        "    return resultados\n",
        "\n",
        "# Calculando a média e o desvio padrão dinamicamente usando a lista de números reais com semente\n",
        "resultados_media_desvio_padrao = calcular_media_desvio_padrao_dinamico(lista_numeros_reais_semente)\n",
        "\n",
        "resultados_media_desvio_padrao\n"
      ],
      "metadata": {
        "colab": {
          "base_uri": "https://localhost:8080/",
          "height": 0
        },
        "id": "Ihh46OtjNQmG",
        "outputId": "c8392bb2-d018-448a-a0ed-899e5b48bb68"
      },
      "execution_count": 38,
      "outputs": [
        {
          "output_type": "execute_result",
          "data": {
            "text/plain": [
              "['Iteração 1, Número: 64.30, Média: 64.30, Desvio Padrão: 0.00',\n",
              " 'Iteração 2, Número: 3.48, Média: 33.89, Desvio Padrão: 30.41',\n",
              " 'Iteração 3, Número: 28.23, Média: 32.00, Desvio Padrão: 24.98',\n",
              " 'Iteração 4, Número: 23.10, Média: 29.78, Desvio Padrão: 21.97',\n",
              " 'Iteração 5, Número: 73.91, Média: 38.60, Desvio Padrão: 26.42',\n",
              " 'Iteração 6, Número: 67.99, Média: 43.50, Desvio Padrão: 26.49',\n",
              " 'Iteração 7, Número: 89.33, Média: 50.05, Desvio Padrão: 29.30',\n",
              " 'Iteração 8, Número: 9.61, Média: 44.99, Desvio Padrão: 30.50',\n",
              " 'Iteração 9, Número: 42.77, Média: 44.75, Desvio Padrão: 28.76',\n",
              " 'Iteração 10, Número: 3.95, Média: 40.67, Desvio Padrão: 29.90']"
            ]
          },
          "metadata": {},
          "execution_count": 38
        }
      ]
    },
    {
      "cell_type": "markdown",
      "source": [
        "A equação para calcular o desvio padrão de uma série de números é expressa da seguinte forma em LaTeX:\n",
        "\n",
        "$$\\sigma = \\sqrt{\\frac{1}{N}\\sum_{i=1}^{N}(x_i - \\mu)^2}$$\n",
        "\n",
        "Onde:\n",
        "- $\\sigma$ é o desvio padrão,\n",
        "- $N$ é o número total de observações na série,\n",
        "- $x_i$ representa cada observação na série,\n",
        "- $\\mu$ é a média da série de números,\n",
        "- $\\sum$ denota a soma para todas as observações.\n",
        "\n",
        "Para calcular o desvio padrão de forma dinâmica, conforme realizado anteriormente, foi adaptado este conceito para calcular a média ($\\mu$) e a soma dos quadrados das diferenças entre cada observação e a média ($\\sum(x_i - \\mu)^2$) a cada iteração, permitindo o cálculo incremental do desvio padrão."
      ],
      "metadata": {
        "id": "IEEEOCiiNfC-"
      }
    },
    {
      "cell_type": "markdown",
      "source": [
        "## Diferença entre Desvios padrão"
      ],
      "metadata": {
        "id": "eTsGZ--kOlHG"
      }
    },
    {
      "cell_type": "markdown",
      "source": [
        "O cálculo realizado anteriormente refere-se ao desvio padrão populacional. No cálculo do desvio padrão populacional, usamos a média da população (total dos elementos) e dividimos a soma dos quadrados das diferenças entre cada valor e a média pelo número total de elementos.\n",
        "\n",
        "A equação para o desvio padrão populacional ($\\sigma$) é:\n",
        "\n",
        "$$\n",
        "\\sigma = \\sqrt{\\frac{\\sum{(x_i - \\mu)^2}}{N}}\n",
        "$$\n",
        "\n",
        "onde:\n",
        "- $x_i$ representa cada valor na população,\n",
        "- $\\mu$ é a média da população,\n",
        "- $N$ é o número total de elementos na população,\n",
        "- $\\sigma$ é o desvio padrão populacional.\n",
        "\n",
        "Para o desvio padrão amostral, que é usado quando estamos lidando com uma amostra de uma população maior, a fórmula é ligeiramente diferente. Nesse caso, dividimos a soma dos quadrados das diferenças não por $N$ mas por $N-1$ para obter uma estimativa mais precisa do desvio padrão da população com base em uma amostra. A fórmula do desvio padrão amostral ($s$) é:\n",
        "\n",
        "$$\n",
        "s = \\sqrt{\\frac{\\sum{(x_i - \\bar{x})^2}}{N-1}}\n",
        "$$\n",
        "\n",
        "onde $\\bar{x}$ é a média da amostra.\n"
      ],
      "metadata": {
        "id": "VCatvqrpOp6l"
      }
    },
    {
      "cell_type": "markdown",
      "source": [
        "Fazendo um comparativo entre as duas equações."
      ],
      "metadata": {
        "id": "Adg6x2WBQDGd"
      }
    },
    {
      "cell_type": "code",
      "source": [
        "import pandas as pd\n",
        "\n",
        "def calcular_desvios(lista):\n",
        "    soma = 0\n",
        "    soma_quadrados = 0\n",
        "    resultados = []\n",
        "    for i, numero in enumerate(lista, start=1):\n",
        "        soma += numero\n",
        "        soma_quadrados += numero ** 2\n",
        "        media_atual = soma / i\n",
        "        variancia_populacional = (soma_quadrados / i) - (media_atual ** 2)\n",
        "        desvio_padrao_populacional = variancia_populacional ** 0.5\n",
        "        if i > 1:  # O desvio padrão amostral não é definido para uma única amostra\n",
        "            variancia_amostral = (soma_quadrados - 2*media_atual*soma + i*(media_atual**2)) / (i - 1)\n",
        "            desvio_padrao_amostral = variancia_amostral ** 0.5\n",
        "        else:\n",
        "            desvio_padrao_amostral = float('nan')  # Não aplicável para a primeira iteração\n",
        "        resultados.append({\n",
        "            'Iteração': i,\n",
        "            'Número': numero,\n",
        "            'Desvio Padrão Populacional': desvio_padrao_populacional,\n",
        "            'Desvio Padrão Amostral': desvio_padrao_amostral\n",
        "        })\n",
        "    return pd.DataFrame(resultados)\n",
        "\n",
        "# Calculando desvios padrão populacional e amostral para cada iteração\n",
        "dados = [64.30, 3.48, 28.23, 23.10, 73.91, 67.99, 89.33, 9.61, 42.77, 3.95]\n",
        "df_desvios = calcular_desvios(dados)\n",
        "\n",
        "df_desvios\n"
      ],
      "metadata": {
        "colab": {
          "base_uri": "https://localhost:8080/",
          "height": 363
        },
        "id": "fhBIjUoTQINF",
        "outputId": "58ffe14f-fe5c-46e0-a3ed-fb000479e7e4"
      },
      "execution_count": 41,
      "outputs": [
        {
          "output_type": "execute_result",
          "data": {
            "text/plain": [
              "   Iteração  Número  Desvio Padrão Populacional  Desvio Padrão Amostral\n",
              "0         1   64.30                    0.000000                     NaN\n",
              "1         2    3.48                   30.410000               43.006234\n",
              "2         3   28.23                   24.972607               30.585072\n",
              "3         4   23.10                   21.967847               25.366285\n",
              "4         5   73.91                   26.413963               29.531709\n",
              "5         6   67.99                   26.483018               29.010693\n",
              "6         7   89.33                   29.297255               31.644652\n",
              "7         8    9.61                   30.494205               32.599676\n",
              "8         9   42.77                   28.758705               30.503213\n",
              "9        10    3.95                   29.902339               31.519833"
            ],
            "text/html": [
              "\n",
              "  <div id=\"df-50189665-b7c1-43fa-8e62-81d7bf60d715\" class=\"colab-df-container\">\n",
              "    <div>\n",
              "<style scoped>\n",
              "    .dataframe tbody tr th:only-of-type {\n",
              "        vertical-align: middle;\n",
              "    }\n",
              "\n",
              "    .dataframe tbody tr th {\n",
              "        vertical-align: top;\n",
              "    }\n",
              "\n",
              "    .dataframe thead th {\n",
              "        text-align: right;\n",
              "    }\n",
              "</style>\n",
              "<table border=\"1\" class=\"dataframe\">\n",
              "  <thead>\n",
              "    <tr style=\"text-align: right;\">\n",
              "      <th></th>\n",
              "      <th>Iteração</th>\n",
              "      <th>Número</th>\n",
              "      <th>Desvio Padrão Populacional</th>\n",
              "      <th>Desvio Padrão Amostral</th>\n",
              "    </tr>\n",
              "  </thead>\n",
              "  <tbody>\n",
              "    <tr>\n",
              "      <th>0</th>\n",
              "      <td>1</td>\n",
              "      <td>64.30</td>\n",
              "      <td>0.000000</td>\n",
              "      <td>NaN</td>\n",
              "    </tr>\n",
              "    <tr>\n",
              "      <th>1</th>\n",
              "      <td>2</td>\n",
              "      <td>3.48</td>\n",
              "      <td>30.410000</td>\n",
              "      <td>43.006234</td>\n",
              "    </tr>\n",
              "    <tr>\n",
              "      <th>2</th>\n",
              "      <td>3</td>\n",
              "      <td>28.23</td>\n",
              "      <td>24.972607</td>\n",
              "      <td>30.585072</td>\n",
              "    </tr>\n",
              "    <tr>\n",
              "      <th>3</th>\n",
              "      <td>4</td>\n",
              "      <td>23.10</td>\n",
              "      <td>21.967847</td>\n",
              "      <td>25.366285</td>\n",
              "    </tr>\n",
              "    <tr>\n",
              "      <th>4</th>\n",
              "      <td>5</td>\n",
              "      <td>73.91</td>\n",
              "      <td>26.413963</td>\n",
              "      <td>29.531709</td>\n",
              "    </tr>\n",
              "    <tr>\n",
              "      <th>5</th>\n",
              "      <td>6</td>\n",
              "      <td>67.99</td>\n",
              "      <td>26.483018</td>\n",
              "      <td>29.010693</td>\n",
              "    </tr>\n",
              "    <tr>\n",
              "      <th>6</th>\n",
              "      <td>7</td>\n",
              "      <td>89.33</td>\n",
              "      <td>29.297255</td>\n",
              "      <td>31.644652</td>\n",
              "    </tr>\n",
              "    <tr>\n",
              "      <th>7</th>\n",
              "      <td>8</td>\n",
              "      <td>9.61</td>\n",
              "      <td>30.494205</td>\n",
              "      <td>32.599676</td>\n",
              "    </tr>\n",
              "    <tr>\n",
              "      <th>8</th>\n",
              "      <td>9</td>\n",
              "      <td>42.77</td>\n",
              "      <td>28.758705</td>\n",
              "      <td>30.503213</td>\n",
              "    </tr>\n",
              "    <tr>\n",
              "      <th>9</th>\n",
              "      <td>10</td>\n",
              "      <td>3.95</td>\n",
              "      <td>29.902339</td>\n",
              "      <td>31.519833</td>\n",
              "    </tr>\n",
              "  </tbody>\n",
              "</table>\n",
              "</div>\n",
              "    <div class=\"colab-df-buttons\">\n",
              "\n",
              "  <div class=\"colab-df-container\">\n",
              "    <button class=\"colab-df-convert\" onclick=\"convertToInteractive('df-50189665-b7c1-43fa-8e62-81d7bf60d715')\"\n",
              "            title=\"Convert this dataframe to an interactive table.\"\n",
              "            style=\"display:none;\">\n",
              "\n",
              "  <svg xmlns=\"http://www.w3.org/2000/svg\" height=\"24px\" viewBox=\"0 -960 960 960\">\n",
              "    <path d=\"M120-120v-720h720v720H120Zm60-500h600v-160H180v160Zm220 220h160v-160H400v160Zm0 220h160v-160H400v160ZM180-400h160v-160H180v160Zm440 0h160v-160H620v160ZM180-180h160v-160H180v160Zm440 0h160v-160H620v160Z\"/>\n",
              "  </svg>\n",
              "    </button>\n",
              "\n",
              "  <style>\n",
              "    .colab-df-container {\n",
              "      display:flex;\n",
              "      gap: 12px;\n",
              "    }\n",
              "\n",
              "    .colab-df-convert {\n",
              "      background-color: #E8F0FE;\n",
              "      border: none;\n",
              "      border-radius: 50%;\n",
              "      cursor: pointer;\n",
              "      display: none;\n",
              "      fill: #1967D2;\n",
              "      height: 32px;\n",
              "      padding: 0 0 0 0;\n",
              "      width: 32px;\n",
              "    }\n",
              "\n",
              "    .colab-df-convert:hover {\n",
              "      background-color: #E2EBFA;\n",
              "      box-shadow: 0px 1px 2px rgba(60, 64, 67, 0.3), 0px 1px 3px 1px rgba(60, 64, 67, 0.15);\n",
              "      fill: #174EA6;\n",
              "    }\n",
              "\n",
              "    .colab-df-buttons div {\n",
              "      margin-bottom: 4px;\n",
              "    }\n",
              "\n",
              "    [theme=dark] .colab-df-convert {\n",
              "      background-color: #3B4455;\n",
              "      fill: #D2E3FC;\n",
              "    }\n",
              "\n",
              "    [theme=dark] .colab-df-convert:hover {\n",
              "      background-color: #434B5C;\n",
              "      box-shadow: 0px 1px 3px 1px rgba(0, 0, 0, 0.15);\n",
              "      filter: drop-shadow(0px 1px 2px rgba(0, 0, 0, 0.3));\n",
              "      fill: #FFFFFF;\n",
              "    }\n",
              "  </style>\n",
              "\n",
              "    <script>\n",
              "      const buttonEl =\n",
              "        document.querySelector('#df-50189665-b7c1-43fa-8e62-81d7bf60d715 button.colab-df-convert');\n",
              "      buttonEl.style.display =\n",
              "        google.colab.kernel.accessAllowed ? 'block' : 'none';\n",
              "\n",
              "      async function convertToInteractive(key) {\n",
              "        const element = document.querySelector('#df-50189665-b7c1-43fa-8e62-81d7bf60d715');\n",
              "        const dataTable =\n",
              "          await google.colab.kernel.invokeFunction('convertToInteractive',\n",
              "                                                    [key], {});\n",
              "        if (!dataTable) return;\n",
              "\n",
              "        const docLinkHtml = 'Like what you see? Visit the ' +\n",
              "          '<a target=\"_blank\" href=https://colab.research.google.com/notebooks/data_table.ipynb>data table notebook</a>'\n",
              "          + ' to learn more about interactive tables.';\n",
              "        element.innerHTML = '';\n",
              "        dataTable['output_type'] = 'display_data';\n",
              "        await google.colab.output.renderOutput(dataTable, element);\n",
              "        const docLink = document.createElement('div');\n",
              "        docLink.innerHTML = docLinkHtml;\n",
              "        element.appendChild(docLink);\n",
              "      }\n",
              "    </script>\n",
              "  </div>\n",
              "\n",
              "\n",
              "<div id=\"df-21ff15a3-302d-4068-a49a-b923566d51a0\">\n",
              "  <button class=\"colab-df-quickchart\" onclick=\"quickchart('df-21ff15a3-302d-4068-a49a-b923566d51a0')\"\n",
              "            title=\"Suggest charts\"\n",
              "            style=\"display:none;\">\n",
              "\n",
              "<svg xmlns=\"http://www.w3.org/2000/svg\" height=\"24px\"viewBox=\"0 0 24 24\"\n",
              "     width=\"24px\">\n",
              "    <g>\n",
              "        <path d=\"M19 3H5c-1.1 0-2 .9-2 2v14c0 1.1.9 2 2 2h14c1.1 0 2-.9 2-2V5c0-1.1-.9-2-2-2zM9 17H7v-7h2v7zm4 0h-2V7h2v10zm4 0h-2v-4h2v4z\"/>\n",
              "    </g>\n",
              "</svg>\n",
              "  </button>\n",
              "\n",
              "<style>\n",
              "  .colab-df-quickchart {\n",
              "      --bg-color: #E8F0FE;\n",
              "      --fill-color: #1967D2;\n",
              "      --hover-bg-color: #E2EBFA;\n",
              "      --hover-fill-color: #174EA6;\n",
              "      --disabled-fill-color: #AAA;\n",
              "      --disabled-bg-color: #DDD;\n",
              "  }\n",
              "\n",
              "  [theme=dark] .colab-df-quickchart {\n",
              "      --bg-color: #3B4455;\n",
              "      --fill-color: #D2E3FC;\n",
              "      --hover-bg-color: #434B5C;\n",
              "      --hover-fill-color: #FFFFFF;\n",
              "      --disabled-bg-color: #3B4455;\n",
              "      --disabled-fill-color: #666;\n",
              "  }\n",
              "\n",
              "  .colab-df-quickchart {\n",
              "    background-color: var(--bg-color);\n",
              "    border: none;\n",
              "    border-radius: 50%;\n",
              "    cursor: pointer;\n",
              "    display: none;\n",
              "    fill: var(--fill-color);\n",
              "    height: 32px;\n",
              "    padding: 0;\n",
              "    width: 32px;\n",
              "  }\n",
              "\n",
              "  .colab-df-quickchart:hover {\n",
              "    background-color: var(--hover-bg-color);\n",
              "    box-shadow: 0 1px 2px rgba(60, 64, 67, 0.3), 0 1px 3px 1px rgba(60, 64, 67, 0.15);\n",
              "    fill: var(--button-hover-fill-color);\n",
              "  }\n",
              "\n",
              "  .colab-df-quickchart-complete:disabled,\n",
              "  .colab-df-quickchart-complete:disabled:hover {\n",
              "    background-color: var(--disabled-bg-color);\n",
              "    fill: var(--disabled-fill-color);\n",
              "    box-shadow: none;\n",
              "  }\n",
              "\n",
              "  .colab-df-spinner {\n",
              "    border: 2px solid var(--fill-color);\n",
              "    border-color: transparent;\n",
              "    border-bottom-color: var(--fill-color);\n",
              "    animation:\n",
              "      spin 1s steps(1) infinite;\n",
              "  }\n",
              "\n",
              "  @keyframes spin {\n",
              "    0% {\n",
              "      border-color: transparent;\n",
              "      border-bottom-color: var(--fill-color);\n",
              "      border-left-color: var(--fill-color);\n",
              "    }\n",
              "    20% {\n",
              "      border-color: transparent;\n",
              "      border-left-color: var(--fill-color);\n",
              "      border-top-color: var(--fill-color);\n",
              "    }\n",
              "    30% {\n",
              "      border-color: transparent;\n",
              "      border-left-color: var(--fill-color);\n",
              "      border-top-color: var(--fill-color);\n",
              "      border-right-color: var(--fill-color);\n",
              "    }\n",
              "    40% {\n",
              "      border-color: transparent;\n",
              "      border-right-color: var(--fill-color);\n",
              "      border-top-color: var(--fill-color);\n",
              "    }\n",
              "    60% {\n",
              "      border-color: transparent;\n",
              "      border-right-color: var(--fill-color);\n",
              "    }\n",
              "    80% {\n",
              "      border-color: transparent;\n",
              "      border-right-color: var(--fill-color);\n",
              "      border-bottom-color: var(--fill-color);\n",
              "    }\n",
              "    90% {\n",
              "      border-color: transparent;\n",
              "      border-bottom-color: var(--fill-color);\n",
              "    }\n",
              "  }\n",
              "</style>\n",
              "\n",
              "  <script>\n",
              "    async function quickchart(key) {\n",
              "      const quickchartButtonEl =\n",
              "        document.querySelector('#' + key + ' button');\n",
              "      quickchartButtonEl.disabled = true;  // To prevent multiple clicks.\n",
              "      quickchartButtonEl.classList.add('colab-df-spinner');\n",
              "      try {\n",
              "        const charts = await google.colab.kernel.invokeFunction(\n",
              "            'suggestCharts', [key], {});\n",
              "      } catch (error) {\n",
              "        console.error('Error during call to suggestCharts:', error);\n",
              "      }\n",
              "      quickchartButtonEl.classList.remove('colab-df-spinner');\n",
              "      quickchartButtonEl.classList.add('colab-df-quickchart-complete');\n",
              "    }\n",
              "    (() => {\n",
              "      let quickchartButtonEl =\n",
              "        document.querySelector('#df-21ff15a3-302d-4068-a49a-b923566d51a0 button');\n",
              "      quickchartButtonEl.style.display =\n",
              "        google.colab.kernel.accessAllowed ? 'block' : 'none';\n",
              "    })();\n",
              "  </script>\n",
              "</div>\n",
              "    </div>\n",
              "  </div>\n"
            ]
          },
          "metadata": {},
          "execution_count": 41
        }
      ]
    },
    {
      "cell_type": "markdown",
      "source": [
        "Observando primeiramente os dados apresentados"
      ],
      "metadata": {
        "id": "if_mJSwzQ0Uf"
      }
    },
    {
      "source": [
        "from matplotlib import pyplot as plt\n",
        "import seaborn as sns\n",
        "def _plot_series(series, series_name, series_index=0):\n",
        "  from matplotlib import pyplot as plt\n",
        "  import seaborn as sns\n",
        "  palette = list(sns.palettes.mpl_palette('Dark2'))\n",
        "  xs = series['Iteração']\n",
        "  ys = series['Número']\n",
        "\n",
        "  plt.plot(xs, ys, label=series_name, color=palette[series_index % len(palette)])\n",
        "\n",
        "fig, ax = plt.subplots(figsize=(5,3), layout='constrained')\n",
        "df_sorted = df_desvios.sort_values('Iteração', ascending=True)\n",
        "_plot_series(df_sorted, '')\n",
        "sns.despine(fig=fig, ax=ax)\n",
        "plt.xlabel('Iteração')\n",
        "_ = plt.ylabel('Número')"
      ],
      "cell_type": "code",
      "metadata": {
        "colab": {
          "base_uri": "https://localhost:8080/",
          "height": 328
        },
        "id": "6m3ib2JAQWsF",
        "outputId": "a8e94ae7-e6ae-4d01-b5c9-8cf0a8552783"
      },
      "execution_count": 42,
      "outputs": [
        {
          "output_type": "display_data",
          "data": {
            "text/plain": [
              "<Figure size 500x300 with 1 Axes>"
            ],
            "image/png": "[encoded data removed]"
          },
          "metadata": {}
        }
      ]
    },
    {
      "cell_type": "markdown",
      "source": [
        "Juntando os valores dos dois tipos de desvios"
      ],
      "metadata": {
        "id": "qbLB1SaoRUCS"
      }
    },
    {
      "cell_type": "code",
      "source": [
        "import matplotlib.pyplot as plt\n",
        "\n",
        "# Plotando o gráfico de linha para os desvios padrão populacional e amostral\n",
        "plt.figure(figsize=(5,3),  layout='constrained')\n",
        "plt.plot(df_desvios['Iteração'], df_desvios['Desvio Padrão Populacional'], label='Desvio Padrão Populacional', marker='o')\n",
        "plt.plot(df_desvios['Iteração'], df_desvios['Desvio Padrão Amostral'], label='Desvio Padrão Amostral', marker='x')\n",
        "\n",
        "plt.title('Desvio Padrão Populacional vs Amostral por Iteração')\n",
        "plt.xlabel('Iteração')\n",
        "plt.ylabel('Desvio Padrão')\n",
        "plt.legend()\n",
        "plt.grid(True)\n",
        "plt.xticks(df_desvios['Iteração'])\n",
        "plt.show()\n"
      ],
      "metadata": {
        "colab": {
          "base_uri": "https://localhost:8080/",
          "height": 328
        },
        "id": "YEfIoT90RP_i",
        "outputId": "f19058ff-f050-425a-edce-d6f29eb2b2e0"
      },
      "execution_count": 45,
      "outputs": [
        {
          "output_type": "display_data",
          "data": {
            "text/plain": [
              "<Figure size 500x300 with 1 Axes>"
            ],
            "image/png": "[encoded data removed]"
          },
          "metadata": {}
        }
      ]
    },
    {
      "cell_type": "markdown",
      "source": [
        "No gráfico acima, você pode ver a comparação entre o desvio padrão populacional e o desvio padrão amostral a cada iteração para o conjunto de dados fornecido. O desvio padrão populacional é calculado usando todos os elementos do conjunto de dados como se representassem a população inteira, enquanto o desvio padrão amostral é calculado como se os dados representassem uma amostra de uma população maior.\n",
        "\n",
        "O gráfico mostra como cada tipo de desvio padrão evolui à medida que mais dados são considerados (a cada iteração). Note que o desvio padrão amostral começa a ser calculado a partir da segunda iteração, pois não é definido para uma única amostra. ​"
      ],
      "metadata": {
        "id": "_g3OGtscRYXz"
      }
    },
    {
      "cell_type": "markdown",
      "source": [
        "## Exemplo de Importância: medição de temperatura\n"
      ],
      "metadata": {
        "id": "HH5lyG4gRZ-Q"
      }
    },
    {
      "cell_type": "markdown",
      "source": [
        "O desvio padrão é uma medida estatística que quantifica a dispersão ou variação de um conjunto de valores. Na medição da temperatura ao longo do tempo, o desvio padrão tem várias aplicações importantes, tais como:\n",
        "\n",
        "1. **Avaliar a Variabilidade:** O desvio padrão permite avaliar quão variáveis são as temperaturas durante um determinado período. Um desvio padrão baixo indica que as temperaturas estão agrupadas de perto em torno da média, sugerindo condições climáticas estáveis. Por outro lado, um desvio padrão alto indica uma grande variação nas temperaturas, sugerindo condições climáticas mais variáveis ou extremas.\n",
        "\n",
        "2. **Comparar Condições Climáticas:** O desvio padrão pode ser usado para comparar a variabilidade climática entre diferentes locais ou períodos. Por exemplo, pode-se comparar a estabilidade das temperaturas entre o verão e o inverno ou entre diferentes regiões geográficas.\n",
        "\n",
        "3. **Identificar Anomalias:** Ao analisar o desvio padrão das temperaturas ao longo do tempo, é possível identificar períodos de anomalia climática, como ondas de calor ou frio extremo. Períodos com um desvio padrão significativamente mais alto do que a média podem indicar eventos climáticos extremos.\n",
        "\n",
        "4. **Previsão e Modelagem Climática:** O desvio padrão é um componente chave na modelagem estatística e na previsão do clima. Entender a variabilidade histórica das temperaturas pode ajudar na criação de modelos climáticos mais precisos e na previsão de futuras condições climáticas.\n",
        "\n",
        "5. **Planejamento e Tomada de Decisão:** Para agricultura, construção, turismo e outras indústrias sensíveis ao clima, entender a variabilidade da temperatura é crucial para o planejamento e a tomada de decisão. O desvio padrão fornece informações valiosas sobre a expectativa de variação climática, que pode afetar tudo, desde a escolha das culturas até a programação de eventos ao ar livre.\n",
        "\n",
        "O desvio padrão fornece insights cruciais sobre a variabilidade e a estabilidade das temperaturas ao longo do tempo, o que é essencial para uma ampla gama de aplicações, desde a análise climática e ambiental até o planejamento econômico e a gestão de riscos."
      ],
      "metadata": {
        "id": "4EomCgAbSK5U"
      }
    },
    {
      "cell_type": "markdown",
      "source": [
        "# Atividade 01"
      ],
      "metadata": {
        "id": "Ps9ChqWpSPqY"
      }
    },
    {
      "cell_type": "markdown",
      "source": [],
      "metadata": {
        "id": "Pz2Kf5nNSlSB"
      }
    },
    {
      "cell_type": "markdown",
      "source": [
        "1. Codifique a média dinâmica no simulador do Arduino\n",
        "2. Codifique o desvio padrão populacional dinâmico no simulador do Arduino"
      ],
      "metadata": {
        "id": "I3bXMnTWSXqf"
      }
    },
    {
      "cell_type": "markdown",
      "source": [
        "# Outliers"
      ],
      "metadata": {
        "id": "66fdPksISlfz"
      }
    },
    {
      "cell_type": "markdown",
      "source": [
        "## O que são outliers?"
      ],
      "metadata": {
        "id": "lBFLedICTTjM"
      }
    },
    {
      "cell_type": "markdown",
      "source": [
        "Outliers, ou valores atípicos, são pontos de dados que se desviam significativamente do padrão observado em um conjunto de dados. Eles são notavelmente diferentes dos outros pontos de dados, estando muito acima ou abaixo da maioria dos valores no conjunto. A presença de outliers pode ser devido a variabilidade no processo de medição, erros experimentais, ou podem indicar um fenômeno real e significativo.\n",
        "\n",
        "Existem várias características e implicações importantes dos outliers:\n",
        "\n",
        "1. **Causas**: Outliers podem resultar de erros de medição ou entrada de dados, variações naturais nos dados, ou podem indicar uma mudança real no processo sendo observado. Identificar a causa dos outliers é crucial para determinar como tratá-los na análise de dados.\n",
        "\n",
        "2. **Impacto na Análise de Dados**: Outliers podem ter um impacto significativo em estatísticas resumidas, como a média e o desvio padrão, levando a interpretações potencialmente enganosas dos dados. Por exemplo, um único outlier alto pode aumentar a média, sugerindo erroneamente que os valores típicos são maiores do que realmente são.\n",
        "\n",
        "3. **Detecção**: A detecção de outliers pode ser feita através de vários métodos, incluindo análise gráfica (como boxplots), medidas estatísticas (como o escore Z ou o teste de Grubbs) e técnicas de mineração de dados.\n",
        "\n",
        "4. **Tratamento**: Uma vez identificados, os outliers podem ser tratados de várias maneiras, dependendo da causa e do objetivo da análise. As opções incluem removê-los, ajustar os valores, ou realizar uma análise separada para entender melhor seu impacto e origem.\n",
        "\n",
        "5. **Importância**: Apesar de serem frequentemente vistos como problemáticos, os outliers podem também fornecer insights valiosos sobre o processo ou fenômeno estudado. Eles podem indicar erros que precisam ser corrigidos, ou revelar novas oportunidades para pesquisa e descoberta.\n",
        "\n",
        "Portanto, a identificação e o tratamento adequados de outliers são etapas essenciais na análise de dados, garantindo a precisão e a validade dos resultados obtidos."
      ],
      "metadata": {
        "id": "AFPveMdRTe7_"
      }
    },
    {
      "cell_type": "markdown",
      "source": [
        "## Exemplo de outliers"
      ],
      "metadata": {
        "id": "MamdwzOATgn8"
      }
    },
    {
      "cell_type": "code",
      "source": [
        "import numpy as np\n",
        "\n",
        "# Gerando um conjunto de dados com 10 medidas\n",
        "np.random.seed(0)  # Para reprodutibilidade\n",
        "dados = np.random.normal(50, 15, 100)  # 100 pontos de dados com média 50 e desvio padrão 15\n",
        "\n",
        "# Introduzindo outliers manualmente\n",
        "outliers = np.array([150, 160, 170, 180, 190, 200, 210, 220, 230, 240])\n",
        "dados_com_outliers = np.concatenate((dados, outliers))\n",
        "\n",
        "# Cálculo da média e do desvio padrão antes e depois de adicionar outliers\n",
        "media_original = np.mean(dados)\n",
        "desvio_padrao_original = np.std(dados)\n",
        "media_com_outliers = np.mean(dados_com_outliers)\n",
        "desvio_padrao_com_outliers = np.std(dados_com_outliers)\n",
        "\n",
        "media_original, desvio_padrao_original, media_com_outliers, desvio_padrao_com_outliers\n"
      ],
      "metadata": {
        "colab": {
          "base_uri": "https://localhost:8080/",
          "height": 0
        },
        "id": "ewdikDe6T6ch",
        "outputId": "805087f5-d991-4c0f-8153-1defd51772e3"
      },
      "execution_count": 46,
      "outputs": [
        {
          "output_type": "execute_result",
          "data": {
            "text/plain": [
              "(50.89712023301727, 15.118233670748696, 63.99738203001571, 44.709633291558724)"
            ]
          },
          "metadata": {},
          "execution_count": 46
        }
      ]
    },
    {
      "cell_type": "markdown",
      "source": [
        "Para exemplificar o impacto dos outliers em um conjunto de dados, primeiro geramos 100 pontos de dados com uma distribuição normal, tendo média de 50 e desvio padrão de 15. Em seguida, adicionamos manualmente 10 medidas outliers (150, 160, 170, 180, 190, 200, 210, 220, 230, 240) ao conjunto de dados.\n",
        "\n",
        "Antes de adicionar os outliers, a média do conjunto de dados era aproximadamente 50.90, e o desvio padrão era aproximadamente 15.12. Após a inclusão dos outliers, a média aumentou para aproximadamente 64.00, e o desvio padrão aumentou significativamente para aproximadamente 44.71.\n",
        "\n",
        "Este exemplo demonstra como a presença de outliers pode afetar as medidas de tendência central e dispersão de um conjunto de dados, distorcendo a representação dos dados \"típicos\" e aumentando a variabilidade percebida."
      ],
      "metadata": {
        "id": "vf5qKVTCUOHY"
      }
    },
    {
      "cell_type": "markdown",
      "source": [
        "## Como calcular"
      ],
      "metadata": {
        "id": "MZI4foDNUkzO"
      }
    },
    {
      "cell_type": "markdown",
      "source": [
        "Primeramente entendendo o percentil"
      ],
      "metadata": {
        "id": "JUmVy5anWLq9"
      }
    },
    {
      "cell_type": "markdown",
      "source": [
        "Para o conjunto de 20 números gerados aleatoriamente:\n",
        "\n",
        "\\[74.37, 40.82, 42.08, 33.91, 62.98, 15.48, 76.17, 38.58, 54.79, 46.26, 71.93, 19.10, 45.16, 44.24, 67.01, 33.50, 47.41, 36.83, 50.63, 58.74\\]\n",
        "\n",
        "O percentil 25% (também conhecido como primeiro quartil, Q1) é calculado como o valor abaixo do qual 25% das observações no conjunto de dados caem. Para este conjunto de dados, o percentil 25% é:\n",
        "\n",
        "\\[38.14\\]\n",
        "\n",
        "Isso significa que 25% dos valores no conjunto de dados são menores ou iguais a 38.14. O cálculo do percentil 25% ajuda a entender a distribuição dos dados, fornecendo um ponto de referência para comparar os valores individuais e entender a dispersão dos dados na parte inferior da distribuição."
      ],
      "metadata": {
        "id": "xwNkqCXQWOV3"
      }
    },
    {
      "cell_type": "code",
      "source": [
        "# Gerando 20 números aleatórios\n",
        "np.random.seed(1)  # Garantindo reprodutibilidade\n",
        "dados_20_numeros = np.random.normal(50, 15, 20)  # 20 pontos de dados com média 50 e desvio padrão 15\n",
        "\n",
        "# Calculando o percentil 25%\n",
        "percentil_25 = np.percentile(dados_20_numeros, 25)\n",
        "\n",
        "dados_20_numeros, percentil_25\n"
      ],
      "metadata": {
        "colab": {
          "base_uri": "https://localhost:8080/",
          "height": 0
        },
        "id": "TgorO8ffWUDf",
        "outputId": "dbb8b914-e184-455d-8587-5133b82f780f"
      },
      "execution_count": 50,
      "outputs": [
        {
          "output_type": "execute_result",
          "data": {
            "text/plain": [
              "(array([74.36518045, 40.8236538 , 42.07742372, 33.90547067, 62.98111444,\n",
              "        15.47691955, 76.17217646, 38.58189649, 54.78558644, 46.25944437,\n",
              "        71.93161906, 19.09788936, 45.16374194, 44.23918468, 67.00654164,\n",
              "        33.50163099, 47.41357689, 36.83212373, 50.6332062 , 58.74222821]),\n",
              " 38.14445329772495)"
            ]
          },
          "metadata": {},
          "execution_count": 50
        }
      ]
    },
    {
      "cell_type": "code",
      "source": [
        "# para melhor verificar, segue\n",
        "# Ordenando os 20 números gerados\n",
        "dados_20_numeros_ordenados = np.sort(dados_20_numeros)\n",
        "\n",
        "dados_20_numeros_ordenados\n"
      ],
      "metadata": {
        "colab": {
          "base_uri": "https://localhost:8080/",
          "height": 0
        },
        "id": "KVR0ZbLWWxn3",
        "outputId": "3b268fb4-363c-40b3-9980-100e59a195b4"
      },
      "execution_count": 51,
      "outputs": [
        {
          "output_type": "execute_result",
          "data": {
            "text/plain": [
              "array([15.47691955, 19.09788936, 33.50163099, 33.90547067, 36.83212373,\n",
              "       38.58189649, 40.8236538 , 42.07742372, 44.23918468, 45.16374194,\n",
              "       46.25944437, 47.41357689, 50.6332062 , 54.78558644, 58.74222821,\n",
              "       62.98111444, 67.00654164, 71.93161906, 74.36518045, 76.17217646])"
            ]
          },
          "metadata": {},
          "execution_count": 51
        }
      ]
    },
    {
      "cell_type": "markdown",
      "source": [
        "Note que o número 38,14 está na posição de 25% da população de dados.\n",
        "\n",
        "---"
      ],
      "metadata": {
        "id": "TgvERglMXnNU"
      }
    },
    {
      "cell_type": "markdown",
      "source": [
        "Calcular ou identificar outliers em um conjunto de dados geralmente envolve determinar quais pontos de dados desviam significativamente dos outros valores. Existem várias técnicas para isso, algumas das mais comuns incluem:\n",
        "\n",
        "### 1. Método do Intervalo Interquartílico (IQR)\n",
        "O IQR é a diferença entre o terceiro quartil (Q3) e o primeiro quartil (Q1). Pontos de dados que estão abaixo de $Q1 - 1.5 \\times IQR$ ou acima de $Q3 + 1.5 \\times IQR$ são frequentemente considerados outliers.\n",
        "\n",
        "#### Passos para calcular:\n",
        "- Encontre o primeiro quartil (Q1) e o terceiro quartil (Q3) dos dados.\n",
        "- Calcule o IQR ($Q3 - Q1$).\n",
        "- Determine os limites inferior ($Q1 - 1.5 \\times IQR$) e superior ($Q3 + 1.5 \\times IQR$) para outliers.\n",
        "- Qualquer ponto de dados fora desses limites pode ser considerado um outlier.\n"
      ],
      "metadata": {
        "id": "yYT9Q8ubUviU"
      }
    },
    {
      "cell_type": "markdown",
      "source": [
        "\n",
        "### 2. Escore Z\n",
        "O escore Z é uma medida que descreve a posição de um ponto de dados em termos de quantos desvios padrões estão distantes da média. Um escore Z com valor absoluto maior que 2 ou 3 (dependendo do critério) é frequentemente considerado um outlier.\n",
        "\n",
        "#### Passos para calcular:\n",
        "- Calcule a média ($\\mu$) e o desvio padrão ($\\sigma$) do conjunto de dados.\n",
        "- Para cada ponto de dados \\(x\\), calcule o escore Z ($Z = \\frac{x - \\mu}{\\sigma}$).\n",
        "- Pontos de dados com $|Z| > 2$ (ou 3) são considerados outliers.\n",
        "\n"
      ],
      "metadata": {
        "id": "zUBsn1xKVc6q"
      }
    },
    {
      "cell_type": "markdown",
      "source": [
        "### 3. Métodos Gráficos\n",
        "Técnicas gráficas como boxplots podem visualizar potenciais outliers. Em um boxplot, pontos de dados fora dos bigodes (as linhas que se estendem do quartil superior e inferior até os valores máximos e mínimos, excluindo outliers) são considerados outliers.\n"
      ],
      "metadata": {
        "id": "8by9Ojc-VfyQ"
      }
    },
    {
      "cell_type": "markdown",
      "source": [
        "### Exemplo em Python usando o Método IQR:\n",
        "Vamos exemplificar o uso do método IQR para identificar outliers em um conjunto de dados hipotético.\n",
        "\n",
        "Usando o método do Intervalo Interquartílico (IQR) para identificar outliers, os valores identificados como outliers no conjunto de dados hipotético são:\n",
        "\n",
        "\\[150, 160, 170, 180, 190, 200, 210, 220, 230, 240\\]\n",
        "\n",
        "Esses são exatamente os valores que foram manualmente introduzidos como outliers, demonstrando a eficácia do método IQR para identificar pontos de dados que desviam significativamente dos demais valores no conjunto."
      ],
      "metadata": {
        "id": "nw5lLDHwVh1b"
      }
    },
    {
      "cell_type": "code",
      "source": [
        "# Exemplo de cálculo de outliers usando o método IQR\n",
        "\n",
        "# Calculando Q1, Q3 e IQR\n",
        "Q1 = np.percentile(dados, 25)\n",
        "Q3 = np.percentile(dados, 75)\n",
        "IQR = Q3 - Q1\n",
        "\n",
        "# Determinando os limites para outliers\n",
        "limite_inferior = Q1 - 1.5 * IQR\n",
        "limite_superior = Q3 + 1.5 * IQR\n",
        "\n",
        "# Identificando outliers\n",
        "outliers_identificados = dados_com_outliers[(dados_com_outliers < limite_inferior) | (dados_com_outliers > limite_superior)]\n",
        "\n",
        "outliers_identificados\n"
      ],
      "metadata": {
        "colab": {
          "base_uri": "https://localhost:8080/",
          "height": 0
        },
        "id": "4IJZtH6aT9Na",
        "outputId": "ec2d1359-bbf0-4246-fd7b-93509be19dc7"
      },
      "execution_count": 47,
      "outputs": [
        {
          "output_type": "execute_result",
          "data": {
            "text/plain": [
              "array([150., 160., 170., 180., 190., 200., 210., 220., 230., 240.])"
            ]
          },
          "metadata": {},
          "execution_count": 47
        }
      ]
    },
    {
      "cell_type": "markdown",
      "source": [
        "### Exemplo, usando o Escore Z para os 20 valores"
      ],
      "metadata": {
        "id": "79axpNrSYhlR"
      }
    },
    {
      "cell_type": "code",
      "source": [
        "# Calculando a média e o desvio padrão dos 20 números\n",
        "media = np.mean(dados_20_numeros_ordenados)\n",
        "desvio_padrao = np.std(dados_20_numeros_ordenados)\n",
        "\n",
        "# Calculando o escore Z para cada número\n",
        "escores_z = (dados_20_numeros_ordenados - media) / desvio_padrao\n",
        "\n",
        "# Identificando outliers com |escore Z| > 2\n",
        "outliers_escore_z = dados_20_numeros_ordenados[np.abs(escores_z) > 2]\n",
        "\n",
        "outliers_escore_z\n"
      ],
      "metadata": {
        "colab": {
          "base_uri": "https://localhost:8080/",
          "height": 0
        },
        "id": "gSkl786wYfYO",
        "outputId": "c22aa578-d445-46d0-e59f-7904eac9211d"
      },
      "execution_count": 52,
      "outputs": [
        {
          "output_type": "execute_result",
          "data": {
            "text/plain": [
              "array([], dtype=float64)"
            ]
          },
          "metadata": {},
          "execution_count": 52
        }
      ]
    },
    {
      "cell_type": "markdown",
      "source": [
        "Usando o método do Escore Z para identificar outliers nos 20 números ordenados, não foram encontrados outliers com base no critério de que valores com um escore Z com valor absoluto maior que 2 são considerados outliers. Isso significa que, nesse conjunto específico de dados, todos os pontos estão dentro de duas desvios padrões da média, e portanto, não há valores que desviam significativamente do resto do conjunto a ponto de serem considerados outliers segundo esse critério."
      ],
      "metadata": {
        "id": "U8omUhtFYmWP"
      }
    },
    {
      "cell_type": "markdown",
      "source": [
        "Para os mesmos 20 valores, incluindo alguns dados hipotéticos e verificando"
      ],
      "metadata": {
        "id": "qud5V5LuYyqn"
      }
    },
    {
      "cell_type": "code",
      "source": [
        "np.random.seed(1)  # Garantindo reprodutibilidade\n",
        "dados_20_numeros = np.random.normal(50, 15, 20)  # 20 pontos de dados com média 50 e desvio padrão 15\n",
        "\n",
        "dados_20_numeros\n",
        "\n",
        "outliers\n",
        "outliers = np.array([150, 160, 170]) # 3 valores\n",
        "dados_com_outliers = np.concatenate((dados_20_numeros, outliers))\n",
        "\n",
        "dados_20_numeros = dados_com_outliers  #novo valor, com outliers\n",
        "\n",
        "# Calculando a média e o desvio padrão dos 20 números\n",
        "media = np.mean(dados_com_outliers)\n",
        "desvio_padrao = np.std(dados_com_outliers)\n",
        "\n",
        "# Calculando o escore Z para cada número\n",
        "escores_z = (dados_com_outliers - media) / desvio_padrao\n",
        "\n",
        "# Identificando outliers com |escore Z| > 2\n",
        "outliers_escore_z = dados_com_outliers[np.abs(escores_z) > 2]\n",
        "\n",
        "outliers_escore_z"
      ],
      "metadata": {
        "colab": {
          "base_uri": "https://localhost:8080/",
          "height": 0
        },
        "id": "cs2c6x4UY4uZ",
        "outputId": "a50a93bd-1843-43de-8c0a-034106f05ed7"
      },
      "execution_count": 56,
      "outputs": [
        {
          "output_type": "execute_result",
          "data": {
            "text/plain": [
              "array([150., 160., 170.])"
            ]
          },
          "metadata": {},
          "execution_count": 56
        }
      ]
    },
    {
      "cell_type": "markdown",
      "source": [
        "Valores de outliers encontrados com o escore Z"
      ],
      "metadata": {
        "id": "6BYVsmqoaC_e"
      }
    },
    {
      "cell_type": "markdown",
      "source": [
        "# Atividade 02"
      ],
      "metadata": {
        "id": "s3YvcfPvaK-n"
      }
    },
    {
      "cell_type": "markdown",
      "source": [
        "1. Com as medidas apresentadas no uso de semente (seed) para média dinâmica, verificar se existe algum outlier"
      ],
      "metadata": {
        "id": "OhC9OCkTaM9O"
      }
    },
    {
      "cell_type": "code",
      "source": [
        "# dados com uso de semente\n",
        "random.seed(42)\n",
        "lista_numeros_reais_semente = [random.uniform(1, 100) for _ in range(10)]\n",
        "lista_numeros_reais_semente"
      ],
      "metadata": {
        "colab": {
          "base_uri": "https://localhost:8080/",
          "height": 0
        },
        "id": "vhRsJ71yates",
        "outputId": "cab95c81-d480-42f9-93ef-439c65bc822b"
      },
      "execution_count": 91,
      "outputs": [
        {
          "output_type": "execute_result",
          "data": {
            "text/plain": [
              "[64.30325304733049,\n",
              " 3.4760647670440266,\n",
              " 28.227902518542805,\n",
              " 23.097863076733454,\n",
              " 73.91065020223722,\n",
              " 67.99324925486822,\n",
              " 89.32577720277969,\n",
              " 9.606944430312199,\n",
              " 42.77026014884177,\n",
              " 3.949924724368964]"
            ]
          },
          "metadata": {},
          "execution_count": 91
        }
      ]
    },
    {
      "cell_type": "markdown",
      "source": [
        "## Resposta 01"
      ],
      "metadata": {
        "id": "tHaUA45fbsLk"
      }
    },
    {
      "cell_type": "code",
      "source": [
        "# Convertendo a lista para um array do NumPy\n",
        "lista_numeros_reais_semente_array = np.array(lista_numeros_reais_semente)\n",
        "\n",
        "# Calculando a média e o desvio padrão dos números reais\n",
        "media_reais = np.mean(lista_numeros_reais_semente_array)\n",
        "desvio_padrao_reais = np.std(lista_numeros_reais_semente_array)\n",
        "\n",
        "# Calculando o escore Z para cada número real\n",
        "escores_z_reais = (lista_numeros_reais_semente_array - media_reais) / desvio_padrao_reais\n",
        "\n",
        "# Identificando outliers com |escore Z| > 2 para os números reais\n",
        "outliers_escore_z_reais = lista_numeros_reais_semente_array[np.abs(escores_z_reais) > 2]\n",
        "\n",
        "outliers_escore_z_reais\n"
      ],
      "metadata": {
        "colab": {
          "base_uri": "https://localhost:8080/",
          "height": 0
        },
        "id": "0ekW_asma-C5",
        "outputId": "436aaab8-0f23-4b09-8e69-f753e9796027"
      },
      "execution_count": 92,
      "outputs": [
        {
          "output_type": "execute_result",
          "data": {
            "text/plain": [
              "array([], dtype=float64)"
            ]
          },
          "metadata": {},
          "execution_count": 92
        }
      ]
    },
    {
      "cell_type": "markdown",
      "source": [
        "Não foram encontrados outliers baseados no critério de que valores com um escore Z com valor absoluto maior que 2 são considerados outliers. Isso indica que, para o conjunto específico de números reais gerados, todos os valores estão dentro de dois desvios padrões da média, e portanto, não há valores que desviam significativamente do restante do conjunto segundo esse critério."
      ],
      "metadata": {
        "id": "gbGBM0U9boS2"
      }
    },
    {
      "cell_type": "markdown",
      "source": [
        "2. Implemente o código dinamicamente"
      ],
      "metadata": {
        "id": "Ixj_svuAbyoe"
      }
    },
    {
      "cell_type": "markdown",
      "source": [
        "## Resposta 02"
      ],
      "metadata": {
        "id": "StQRu4Ptb20f"
      }
    },
    {
      "cell_type": "code",
      "source": [
        "def calcular_outliers_dinamico_corrigido(lista):\n",
        "    resultados_corrigidos = []\n",
        "    for i in range(1, len(lista) + 1):\n",
        "        subset = np.array(lista[:i])\n",
        "        media_subset = np.mean(subset)\n",
        "        desvio_padrao_subset = np.std(subset)\n",
        "\n",
        "        # Verificação para evitar divisão por zero no cálculo do escore Z\n",
        "        if desvio_padrao_subset > 0:\n",
        "            escores_z_subset = (subset - media_subset) / desvio_padrao_subset\n",
        "            outliers_subset = subset[np.abs(escores_z_subset) > 2]\n",
        "        else:\n",
        "            outliers_subset = np.array([])\n",
        "\n",
        "        resultados_corrigidos.append({\n",
        "            'Iteração': i,\n",
        "            'Outliers': outliers_subset\n",
        "        })\n",
        "    return resultados_corrigidos\n",
        "\n",
        "print(lista_numeros_reais_semente)\n",
        "\n",
        "# Calculando outliers dinamicamente a cada iteração para os números reais com correção\n",
        "resultados_outliers_dinamico_corrigidos = calcular_outliers_dinamico_corrigido(lista_numeros_reais_semente)\n",
        "\n",
        "# Exibindo os resultados das iterações em que foram encontrados outliers\n",
        "resultados_com_outliers_corrigidos = [r for r in resultados_outliers_dinamico_corrigidos if len(r['Outliers']) > 0]\n",
        "resultados_com_outliers_corrigidos\n",
        "\n",
        "##### Concatenando alguns outliers já exemplificados\n",
        "\n",
        "outliers = np.array([150, 160, 170]) # 3 valores\n",
        "lista_numeros_reais_semente = np.concatenate((lista_numeros_reais_semente, outliers))\n",
        "\n",
        "lista_numeros_reais_semente\n",
        "\n",
        "# Calculando outliers dinamicamente a cada iteração para os números reais com correção\n",
        "resultados_outliers_dinamico_corrigidos = calcular_outliers_dinamico_corrigido(lista_numeros_reais_semente)\n",
        "\n",
        "# Exibindo os resultados das iterações em que foram encontrados outliers\n",
        "resultados_com_outliers_corrigidos = [r for r in resultados_outliers_dinamico_corrigidos if len(r['Outliers']) > 0]\n",
        "resultados_com_outliers_corrigidos\n"
      ],
      "metadata": {
        "colab": {
          "base_uri": "https://localhost:8080/",
          "height": 0
        },
        "id": "5G1Tw9OocM4N",
        "outputId": "152eb9dd-8698-4098-dabe-a1334413c750"
      },
      "execution_count": 93,
      "outputs": [
        {
          "output_type": "stream",
          "name": "stdout",
          "text": [
            "[64.30325304733049, 3.4760647670440266, 28.227902518542805, 23.097863076733454, 73.91065020223722, 67.99324925486822, 89.32577720277969, 9.606944430312199, 42.77026014884177, 3.949924724368964]\n"
          ]
        },
        {
          "output_type": "execute_result",
          "data": {
            "text/plain": [
              "[{'Iteração': 11, 'Outliers': array([150.])}]"
            ]
          },
          "metadata": {},
          "execution_count": 93
        }
      ]
    },
    {
      "cell_type": "markdown",
      "source": [
        "Qual o motivo de agora não entrar na lista de outlier os valores de 160 e 170? Explique"
      ],
      "metadata": {
        "id": "p5uWtSBMduDM"
      }
    },
    {
      "cell_type": "markdown",
      "source": [
        "3. Apresentar um correção no algoritmo, de forma que elimine o outlier logo na entrada"
      ],
      "metadata": {
        "id": "7TImBMDgefCp"
      }
    },
    {
      "cell_type": "markdown",
      "source": [
        "## Resposta 03"
      ],
      "metadata": {
        "id": "ipRDqFTEey-L"
      }
    },
    {
      "cell_type": "code",
      "source": [
        "def calcular_outliers_e_eliminar_dinamico(lista):\n",
        "    resultados_corrigidos_e_eliminados = []\n",
        "    dados_sem_outliers = []\n",
        "\n",
        "    for numero in lista:\n",
        "        dados_sem_outliers.append(numero)\n",
        "        subset = np.array(dados_sem_outliers)\n",
        "        media_subset = np.mean(subset)\n",
        "        desvio_padrao_subset = np.std(subset)\n",
        "\n",
        "        # Verificação para evitar divisão por zero no cálculo do escore Z\n",
        "        if desvio_padrao_subset > 0:\n",
        "            escores_z_subset = (subset - media_subset) / desvio_padrao_subset\n",
        "            outliers_subset = subset[np.abs(escores_z_subset) > 2]\n",
        "            # Verificando se o número atual é um outlier\n",
        "            if numero in outliers_subset:\n",
        "                resultados_corrigidos_e_eliminados.append(f\"{numero} é um outlier e será eliminado.\")\n",
        "                dados_sem_outliers.pop()  # Removendo o outlier da lista de dados considerados\n",
        "        else:\n",
        "            outliers_subset = np.array([])\n",
        "\n",
        "    return resultados_corrigidos_e_eliminados\n",
        "\n",
        "print(lista_numeros_reais_semente)\n",
        "\n",
        "# Calculando outliers e eliminando-os dinamicamente para os números reais com outliers inclusos\n",
        "resultados_outliers_e_eliminados = calcular_outliers_e_eliminar_dinamico(lista_numeros_reais_semente)\n",
        "resultados_outliers_e_eliminados\n",
        "\n"
      ],
      "metadata": {
        "colab": {
          "base_uri": "https://localhost:8080/",
          "height": 0
        },
        "id": "WRgoCF_cf3cu",
        "outputId": "3e2d8586-fdbd-4f68-aed1-963349cbc71a"
      },
      "execution_count": 94,
      "outputs": [
        {
          "output_type": "stream",
          "name": "stdout",
          "text": [
            "[ 64.30325305   3.47606477  28.22790252  23.09786308  73.9106502\n",
            "  67.99324925  89.3257772    9.60694443  42.77026015   3.94992472\n",
            " 150.         160.         170.        ]\n"
          ]
        },
        {
          "output_type": "execute_result",
          "data": {
            "text/plain": [
              "['150.0 é um outlier e será eliminado.',\n",
              " '160.0 é um outlier e será eliminado.',\n",
              " '170.0 é um outlier e será eliminado.']"
            ]
          },
          "metadata": {},
          "execution_count": 94
        }
      ]
    },
    {
      "cell_type": "markdown",
      "source": [
        "Uma reposta mais completa de resultados da interação, média e desvio padrão"
      ],
      "metadata": {
        "id": "dyLuOIJGgxhi"
      }
    },
    {
      "cell_type": "markdown",
      "source": [
        "Novos calculos em consideração ao proposto."
      ],
      "metadata": {
        "id": "aiqUwrWt4S2G"
      }
    },
    {
      "cell_type": "code",
      "source": [
        "def recalcular_sem_outliers_dinamicamente(lista):\n",
        "    resultados_finais = []\n",
        "    dados_considerados = []\n",
        "\n",
        "    for i, numero in enumerate(lista, start=1):\n",
        "        # Adicionando o número atual à lista temporária para cálculo\n",
        "        dados_temp = dados_considerados + [numero]\n",
        "        subset_temp = np.array(dados_temp)\n",
        "        media_temp = np.mean(subset_temp)\n",
        "        desvio_padrao_temp = np.std(subset_temp)\n",
        "\n",
        "        # Cálculo do escore Z para o número atual\n",
        "        if desvio_padrao_temp > 0:\n",
        "            escore_z_numero_atual = (numero - media_temp) / desvio_padrao_temp\n",
        "            if abs(escore_z_numero_atual) > 2:\n",
        "                # Se o número atual é um outlier, ele é reportado mas não adicionado aos dados considerados\n",
        "                resultados_finais.append(f\"Iteração {i}: {numero} é um outlier e não será considerado.\")\n",
        "                continue  # Pula a adição desse número aos dados considerados\n",
        "        # Adiciona o número aos dados considerados se não for um outlier\n",
        "        dados_considerados.append(numero)\n",
        "        # Atualiza a média e o desvio padrão com os dados considerados (sem outliers)\n",
        "        media_considerada = np.mean(dados_considerados)\n",
        "        desvio_padrao_considerado = np.std(dados_considerados)\n",
        "        resultados_finais.append(f\"Iteração {i}: Número {numero} adicionado. Média agora é {media_considerada:.2f}, Desvio Padrão é {desvio_padrao_considerado:.2f}.\")\n",
        "\n",
        "    return resultados_finais\n",
        "\n",
        "lista_numeros_reais_semente_inclusos = lista_numeros_reais_semente\n",
        "\n",
        "# Aplicando o cálculo corrigido\n",
        "resultados_sem_outliers_corrigidos = recalcular_sem_outliers_dinamicamente(lista_numeros_reais_semente_inclusos)\n",
        "\n",
        "# Exibindo os últimos resultados para verificar a correção\n",
        "resultados_sem_outliers_corrigidos[-10:]\n"
      ],
      "metadata": {
        "colab": {
          "base_uri": "https://localhost:8080/",
          "height": 0
        },
        "id": "zn_DBlhE4XYv",
        "outputId": "072b6a7b-004a-43cd-fe35-5aaf1d8cee67"
      },
      "execution_count": 96,
      "outputs": [
        {
          "output_type": "execute_result",
          "data": {
            "text/plain": [
              "['Iteração 4: Número 23.097863076733454 adicionado. Média agora é 29.78, Desvio Padrão é 21.97.',\n",
              " 'Iteração 5: Número 73.91065020223722 adicionado. Média agora é 38.60, Desvio Padrão é 26.42.',\n",
              " 'Iteração 6: Número 67.99324925486822 adicionado. Média agora é 43.50, Desvio Padrão é 26.49.',\n",
              " 'Iteração 7: Número 89.32577720277969 adicionado. Média agora é 50.05, Desvio Padrão é 29.30.',\n",
              " 'Iteração 8: Número 9.606944430312199 adicionado. Média agora é 44.99, Desvio Padrão é 30.50.',\n",
              " 'Iteração 9: Número 42.77026014884177 adicionado. Média agora é 44.75, Desvio Padrão é 28.76.',\n",
              " 'Iteração 10: Número 3.949924724368964 adicionado. Média agora é 40.67, Desvio Padrão é 29.90.',\n",
              " 'Iteração 11: 150.0 é um outlier e não será considerado.',\n",
              " 'Iteração 12: 160.0 é um outlier e não será considerado.',\n",
              " 'Iteração 13: 170.0 é um outlier e não será considerado.']"
            ]
          },
          "metadata": {},
          "execution_count": 96
        }
      ]
    },
    {
      "cell_type": "markdown",
      "source": [
        "4. Codifique a eliminação de dados outlier dinâmicamente no simulador do Arduino"
      ],
      "metadata": {
        "id": "HSU86bgXhACW"
      }
    }
  ]
}