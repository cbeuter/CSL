{
  "nbformat": 4,
  "nbformat_minor": 0,
  "metadata": {
    "colab": {
      "provenance": [],
      "authorship_tag": "ABX9TyO5hdd9EefTv0a2z30deVik",
      "include_colab_link": true
    },
    "kernelspec": {
      "name": "python3",
      "display_name": "Python 3"
    },
    "language_info": {
      "name": "python"
    }
  },
  "cells": [
    {
      "cell_type": "markdown",
      "metadata": {
        "id": "view-in-github",
        "colab_type": "text"
      },
      "source": [
        "<a href=\"https://colab.research.google.com/github/cbeuter/Disc_CSL_e_EB/blob/main/CSL_Avaliacao_Metodo_Cohen_Coon_v01.ipynb\" target=\"_parent\"><img src=\"https://colab.research.google.com/assets/colab-badge.svg\" alt=\"Open In Colab\"/></a>"
      ]
    },
    {
      "cell_type": "markdown",
      "source": [
        "# Método Cohen-Coon\n",
        "Para um sistema de segunda ordem"
      ],
      "metadata": {
        "id": "h2GaSxF5jlYb"
      }
    },
    {
      "cell_type": "markdown",
      "source": [
        "Verificando as contas da seção 5.2.1"
      ],
      "metadata": {
        "id": "HwGN52Adjx93"
      }
    },
    {
      "cell_type": "code",
      "source": [
        "tau = 668\n",
        "td = 5\n",
        "gp = 0.40232558139534885\n",
        "\n",
        "# Calculando Kp usando a fórmula dada\n",
        "Kp = 1.35 / gp * (tau / td + 0.185)\n",
        "print(f'Kp: {Kp:.3f}')\n"
      ],
      "metadata": {
        "colab": {
          "base_uri": "https://localhost:8080/"
        },
        "id": "LY9KZRC7gmE3",
        "outputId": "844c0d45-2f0a-4b85-8b60-98053ab2e2cd"
      },
      "execution_count": null,
      "outputs": [
        {
          "output_type": "stream",
          "name": "stdout",
          "text": [
            "Kp: 448.914\n"
          ]
        }
      ]
    },
    {
      "cell_type": "code",
      "execution_count": null,
      "metadata": {
        "colab": {
          "base_uri": "https://localhost:8080/"
        },
        "id": "XHtsEq02gX4-",
        "outputId": "31f5225d-70c0-450f-8741-34ded9c7720d"
      },
      "outputs": [
        {
          "output_type": "stream",
          "name": "stdout",
          "text": [
            "Ki: 36.028\n"
          ]
        }
      ],
      "source": [
        "Ki = Kp / ((2.5 * td)* ((tau + 0.185* td) / (tau + 0.611 * td)))\n",
        "print(f'Ki: {Ki:.3f}')\n"
      ]
    },
    {
      "cell_type": "code",
      "source": [
        "Kd = Kp * 0.37 * td * (tau / (tau + 0.185 * td))\n",
        "print(f'Kd: {Kd:.3f}')\n",
        "\n"
      ],
      "metadata": {
        "colab": {
          "base_uri": "https://localhost:8080/"
        },
        "id": "ymcUDd_hg8J2",
        "outputId": "6240694f-44d1-4095-ef00-2ded3f03768a"
      },
      "execution_count": null,
      "outputs": [
        {
          "output_type": "stream",
          "name": "stdout",
          "text": [
            "Kd: 829.343\n"
          ]
        }
      ]
    },
    {
      "cell_type": "markdown",
      "source": [
        "Verificando as contas da seção **5.3.2**"
      ],
      "metadata": {
        "id": "q-4BcG-yj7qD"
      }
    },
    {
      "cell_type": "code",
      "source": [
        "td = 1.5\n",
        "tau = 668\n",
        "ti = 25.7\n",
        "tf = 43\n",
        "gp = (tf-ti)/tf\n",
        "print(f'gp: {gp:.3f}')\n",
        "\n",
        "# Calculando Kp usando a fórmula dada\n",
        "Kp = 0.9/gp * (tau / td + 0.092)\n",
        "print(f'Kp: {Kp:.3f}')\n",
        "\n",
        "Ki = Kp / ((3.33*td) * ((tau + 0.092*td) / (tau+2.22*td)))\n",
        "print(f'Ki: {Ki:.3f}')\n",
        "\n"
      ],
      "metadata": {
        "colab": {
          "base_uri": "https://localhost:8080/"
        },
        "id": "KnQsIA_2hdzu",
        "outputId": "1bc5550b-6602-4ad8-eb0b-0bd0e46c6e5b"
      },
      "execution_count": null,
      "outputs": [
        {
          "output_type": "stream",
          "name": "stdout",
          "text": [
            "gp: 0.402\n",
            "Kp: 996.414\n",
            "Ki: 200.435\n"
          ]
        }
      ]
    }
  ]
}